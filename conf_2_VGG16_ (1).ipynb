{
  "cells": [
    {
      "cell_type": "code",
      "execution_count": null,
      "metadata": {
        "id": "eBElM3J4M6UJ"
      },
      "outputs": [],
      "source": []
    },
    {
      "cell_type": "code",
      "execution_count": null,
      "metadata": {
        "id": "iDYiOnLF_soJ"
      },
      "outputs": [],
      "source": [
        "import keras\n",
        "from keras.datasets import mnist\n",
        "from keras.layers import Conv2D, MaxPooling2D, AveragePooling2D\n",
        "from keras.layers import Dense, Flatten\n",
        "from keras import optimizers\n",
        "from tensorflow.keras.applications import Xception\n",
        "\n",
        "from keras.models import Sequential\n",
        "from keras.layers import Input, Lambda, Dense, Flatten, Dropout, UpSampling2D, LeakyReLU, MaxPooling2D, BatchNormalization\n",
        "from keras.models import Model\n",
        "from keras.applications.vgg16 import VGG16\n",
        "from keras.applications.vgg16 import preprocess_input\n",
        "from tensorflow import optimizers\n",
        "from keras.preprocessing import image\n",
        "from keras.preprocessing.image import ImageDataGenerator\n",
        "from keras.models import Sequential\n",
        "import numpy as np\n",
        "from glob import glob\n",
        "import matplotlib.pyplot as plt\n",
        "import keras\n",
        "from keras.datasets import mnist\n",
        "from keras.layers import Conv2D, MaxPooling2D, AveragePooling2D\n",
        "from keras.layers import Dense, Flatten\n",
        "from keras import optimizers\n",
        "from keras.models import Sequential\n",
        "from keras.layers import Input, Lambda, Dense, Flatten, Dropout, UpSampling2D, LeakyReLU, MaxPooling2D, BatchNormalization\n",
        "from keras.models import Model\n",
        "from keras.applications.vgg16 import VGG16\n",
        "from keras.applications.vgg16 import preprocess_input\n",
        "from tensorflow import optimizers\n",
        "from keras.preprocessing import image\n",
        "from keras.preprocessing.image import ImageDataGenerator\\\n",
        "\n",
        "from keras.models import Sequential\n",
        "import numpy as np\n",
        "from glob import glob\n",
        "import matplotlib.pyplot as plt\n"
      ]
    },
    {
      "cell_type": "code",
      "execution_count": null,
      "metadata": {
        "id": "mbpshfuUPTat"
      },
      "outputs": [],
      "source": [
        "import os\n",
        "import shutil\n",
        "import numpy as np\n",
        "\n",
        "\n",
        "# Define paths\n",
        "source_dir = '/content/drive/MyDrive/covid projrct dataset 2'\n",
        "train_dir = '/content/drive/MyDrive/train test val 2/train'\n",
        "val_dir = '/content/drive/MyDrive/train test val 2/val'\n",
        "test_dir = '/content/drive/MyDrive/train test val 2/test'"
      ]
    },
    {
      "cell_type": "code",
      "execution_count": null,
      "metadata": {
        "colab": {
          "base_uri": "https://localhost:8080/"
        },
        "id": "XDIM7M7bQDKr",
        "outputId": "87c13846-95dd-429e-c5a8-095e0acabc12"
      },
      "outputs": [
        {
          "output_type": "stream",
          "name": "stdout",
          "text": [
            "COVID\n",
            "NORMAL\n",
            "pneumonia\n",
            "Class weights: {0: 1.369757174392936, 1: 0.8820184790334044, 2: 0.8801418439716312}\n"
          ]
        }
      ],
      "source": [
        "\n",
        "\n",
        "\n",
        "# Calculate class weights\n",
        "def count_images_in_classes(directory):\n",
        "    class_counts = {}\n",
        "    for class_name in os.listdir(directory):\n",
        "        print(class_name)\n",
        "        class_path = os.path.join(directory, class_name)\n",
        "        if os.path.isdir(class_path):\n",
        "            class_counts[class_name] = len(os.listdir(class_path))\n",
        "    return class_counts\n",
        "\n",
        "train_class_counts = count_images_in_classes(train_dir)\n",
        "num_classes = len(train_class_counts)\n",
        "total_samples = sum(train_class_counts.values())\n",
        "\n",
        "class_weights = {i: total_samples / (num_classes * count) for i, count in enumerate(train_class_counts.values())}\n",
        "print(\"Class weights:\", class_weights)"
      ]
    },
    {
      "cell_type": "code",
      "execution_count": null,
      "metadata": {
        "id": "mJyam_agQprH"
      },
      "outputs": [],
      "source": []
    },
    {
      "cell_type": "code",
      "execution_count": null,
      "metadata": {
        "colab": {
          "base_uri": "https://localhost:8080/"
        },
        "id": "6-DwPjLwPTd5",
        "outputId": "017fbfea-cd81-4e5e-b0d0-a68e5267c3af"
      },
      "outputs": [
        {
          "output_type": "stream",
          "name": "stdout",
          "text": [
            "Found 2482 images belonging to 3 classes.\n",
            "Found 531 images belonging to 3 classes.\n",
            "Found 535 images belonging to 3 classes.\n"
          ]
        }
      ],
      "source": [
        "from tensorflow.keras.preprocessing.image import ImageDataGenerator\n",
        "\n",
        "# ImageDataGenerator for training data with data augmentation\n",
        "train_datagen = ImageDataGenerator(\n",
        "    rescale=1./255,\n",
        "    rotation_range=20,\n",
        "    width_shift_range=0.2,\n",
        "    height_shift_range=0.2,\n",
        "    shear_range=0.2,\n",
        "    zoom_range=0.2,\n",
        "    horizontal_flip=True,\n",
        "    fill_mode='nearest'\n",
        ")\n",
        "\n",
        "# ImageDataGenerator for validation and test data without data augmentation\n",
        "val_test_datagen = ImageDataGenerator(rescale=1./255)\n",
        "\n",
        "# Data generators\n",
        "train_generator = train_datagen.flow_from_directory(\n",
        "    train_dir,\n",
        "    target_size=(224, 224),\n",
        "    batch_size=32,\n",
        "    class_mode='categorical'\n",
        ")\n",
        "\n",
        "validation_generator = val_test_datagen.flow_from_directory(\n",
        "    val_dir,\n",
        "    target_size=(224, 224),\n",
        "    batch_size=32,\n",
        "    class_mode='categorical'\n",
        ")\n",
        "\n",
        "test_generator = val_test_datagen.flow_from_directory(\n",
        "    test_dir,\n",
        "    target_size=(224, 224),\n",
        "    batch_size=32,\n",
        "    class_mode='categorical'\n",
        ")\n"
      ]
    },
    {
      "cell_type": "code",
      "source": [
        "num_batches = len(train_generator)\n",
        "total_new_data = num_batches * train_generator.batch_size\n",
        "\n",
        "print(\"Total new data generated:\", total_new_data)\n",
        "print(num_batches)"
      ],
      "metadata": {
        "colab": {
          "base_uri": "https://localhost:8080/"
        },
        "id": "eJW-x6p9c6rp",
        "outputId": "64428c95-6b7d-40bd-c443-2b4c4c4cf54c"
      },
      "execution_count": null,
      "outputs": [
        {
          "output_type": "stream",
          "name": "stdout",
          "text": [
            "Total new data generated: 2496\n",
            "78\n"
          ]
        }
      ]
    },
    {
      "cell_type": "code",
      "execution_count": null,
      "metadata": {
        "colab": {
          "base_uri": "https://localhost:8080/"
        },
        "id": "cy_U9KJPW575",
        "outputId": "4984f99a-fa70-4600-a60d-3fdc99ec3f86"
      },
      "outputs": [
        {
          "output_type": "stream",
          "name": "stdout",
          "text": [
            "Downloading data from https://storage.googleapis.com/tensorflow/keras-applications/vgg16/vgg16_weights_tf_dim_ordering_tf_kernels_notop.h5\n",
            "58889256/58889256 [==============================] - 0s 0us/step\n"
          ]
        }
      ],
      "source": [
        "from tensorflow.keras.models import Sequential\n",
        "from tensorflow.keras.layers import Dense, Flatten, Dropout, BatchNormalization\n",
        "from tensorflow.keras.regularizers import l2\n",
        "from tensorflow.keras.applications import VGG16\n",
        "\n",
        "# Load pre-trained VGG16 model without top layers\n",
        "base_model = VGG16(weights='imagenet', include_top=False, input_shape=(224, 224, 3))\n",
        "\n",
        "# Freeze the pre-trained layers\n",
        "for layer in base_model.layers:\n",
        "    layer.trainable = False\n",
        "\n",
        "# Define the model\n",
        "model = Sequential([\n",
        "    base_model,\n",
        "    Flatten(),\n",
        "    Dense(256, kernel_regularizer=l2(0.01)),\n",
        "    LeakyReLU(alpha=0.1),\n",
        "    BatchNormalization(),  # Add Batch Normalization\n",
        "    Dropout(0.5),  # Add dropout for regularization\n",
        "    Dense(128, kernel_regularizer=l2(0.01)),\n",
        "    LeakyReLU(alpha=0.1),\n",
        "    Dropout(0.5),\n",
        "    Dense(3, activation='softmax')\n",
        "])\n"
      ]
    },
    {
      "cell_type": "code",
      "execution_count": null,
      "metadata": {
        "colab": {
          "base_uri": "https://localhost:8080/"
        },
        "id": "TKcBEICCX0Su",
        "outputId": "c9771fe6-2a52-4ed7-e715-7844412508df"
      },
      "outputs": [
        {
          "output_type": "stream",
          "name": "stdout",
          "text": [
            "Model: \"sequential\"\n",
            "_________________________________________________________________\n",
            " Layer (type)                Output Shape              Param #   \n",
            "=================================================================\n",
            " vgg16 (Functional)          (None, 7, 7, 512)         14714688  \n",
            "                                                                 \n",
            " flatten (Flatten)           (None, 25088)             0         \n",
            "                                                                 \n",
            " dense (Dense)               (None, 256)               6422784   \n",
            "                                                                 \n",
            " leaky_re_lu (LeakyReLU)     (None, 256)               0         \n",
            "                                                                 \n",
            " batch_normalization (Batch  (None, 256)               1024      \n",
            " Normalization)                                                  \n",
            "                                                                 \n",
            " dropout (Dropout)           (None, 256)               0         \n",
            "                                                                 \n",
            " dense_1 (Dense)             (None, 128)               32896     \n",
            "                                                                 \n",
            " leaky_re_lu_1 (LeakyReLU)   (None, 128)               0         \n",
            "                                                                 \n",
            " dropout_1 (Dropout)         (None, 128)               0         \n",
            "                                                                 \n",
            " dense_2 (Dense)             (None, 3)                 387       \n",
            "                                                                 \n",
            "=================================================================\n",
            "Total params: 21171779 (80.76 MB)\n",
            "Trainable params: 6456579 (24.63 MB)\n",
            "Non-trainable params: 14715200 (56.13 MB)\n",
            "_________________________________________________________________\n"
          ]
        }
      ],
      "source": [
        "from tensorflow.keras.optimizers import Adam\n",
        "model.compile(optimizer=Adam(learning_rate=0.0001), loss='categorical_crossentropy', metrics=['accuracy'])\n",
        "\n",
        "model.summary()"
      ]
    },
    {
      "cell_type": "code",
      "execution_count": null,
      "metadata": {
        "colab": {
          "base_uri": "https://localhost:8080/"
        },
        "id": "Kpcl__aWYPrT",
        "outputId": "5447033e-f879-43e1-cab8-9d1b9480d988"
      },
      "outputs": [
        {
          "metadata": {
            "tags": null
          },
          "name": "stdout",
          "output_type": "stream",
          "text": [
            "Epoch 1/20\n",
            "78/78 [==============================] - ETA: 0s - loss: 6.4668 - accuracy: 0.7768\n",
            "Epoch 1: val_loss improved from inf to 5.69464, saving model to model_checkpoint.h5\n"
          ]
        },
        {
          "metadata": {
            "tags": null
          },
          "name": "stderr",
          "output_type": "stream",
          "text": [
            "/usr/local/lib/python3.10/dist-packages/keras/src/engine/training.py:3103: UserWarning: You are saving your model as an HDF5 file via `model.save()`. This file format is considered legacy. We recommend using instead the native Keras format, e.g. `model.save('my_model.keras')`.\n",
            "  saving_api.save_model(\n"
          ]
        },
        {
          "output_type": "stream",
          "name": "stdout",
          "text": [
            "78/78 [==============================] - 658s 8s/step - loss: 6.4668 - accuracy: 0.7768 - val_loss: 5.6946 - val_accuracy: 0.8249 - lr: 1.0000e-04\n",
            "Epoch 2/20\n",
            "78/78 [==============================] - ETA: 0s - loss: 5.2883 - accuracy: 0.8469\n",
            "Epoch 2: val_loss improved from 5.69464 to 5.03390, saving model to model_checkpoint.h5\n",
            "78/78 [==============================] - 432s 6s/step - loss: 5.2883 - accuracy: 0.8469 - val_loss: 5.0339 - val_accuracy: 0.8249 - lr: 1.0000e-04\n",
            "Epoch 3/20\n",
            "78/78 [==============================] - ETA: 0s - loss: 4.7739 - accuracy: 0.8707\n",
            "Epoch 3: val_loss improved from 5.03390 to 4.45931, saving model to model_checkpoint.h5\n",
            "78/78 [==============================] - 434s 6s/step - loss: 4.7739 - accuracy: 0.8707 - val_loss: 4.4593 - val_accuracy: 0.9002 - lr: 1.0000e-04\n",
            "Epoch 4/20\n",
            "78/78 [==============================] - ETA: 0s - loss: 4.4164 - accuracy: 0.8707\n",
            "Epoch 4: val_loss improved from 4.45931 to 4.13751, saving model to model_checkpoint.h5\n",
            "78/78 [==============================] - 432s 6s/step - loss: 4.4164 - accuracy: 0.8707 - val_loss: 4.1375 - val_accuracy: 0.9096 - lr: 1.0000e-04\n",
            "Epoch 5/20\n",
            "78/78 [==============================] - ETA: 0s - loss: 4.0976 - accuracy: 0.8775\n",
            "Epoch 5: val_loss improved from 4.13751 to 3.93603, saving model to model_checkpoint.h5\n",
            "78/78 [==============================] - 434s 6s/step - loss: 4.0976 - accuracy: 0.8775 - val_loss: 3.9360 - val_accuracy: 0.8719 - lr: 1.0000e-04\n",
            "Epoch 6/20\n",
            "78/78 [==============================] - ETA: 0s - loss: 3.8330 - accuracy: 0.8763\n",
            "Epoch 6: val_loss improved from 3.93603 to 3.63649, saving model to model_checkpoint.h5\n",
            "78/78 [==============================] - 428s 5s/step - loss: 3.8330 - accuracy: 0.8763 - val_loss: 3.6365 - val_accuracy: 0.9040 - lr: 1.0000e-04\n",
            "Epoch 7/20\n",
            "78/78 [==============================] - ETA: 0s - loss: 3.6047 - accuracy: 0.8868\n",
            "Epoch 7: val_loss improved from 3.63649 to 3.44775, saving model to model_checkpoint.h5\n",
            "78/78 [==============================] - 427s 5s/step - loss: 3.6047 - accuracy: 0.8868 - val_loss: 3.4477 - val_accuracy: 0.8832 - lr: 1.0000e-04\n",
            "Epoch 8/20\n",
            "78/78 [==============================] - ETA: 0s - loss: 3.4031 - accuracy: 0.8936\n",
            "Epoch 8: val_loss improved from 3.44775 to 3.22031, saving model to model_checkpoint.h5\n",
            "78/78 [==============================] - 427s 5s/step - loss: 3.4031 - accuracy: 0.8936 - val_loss: 3.2203 - val_accuracy: 0.9077 - lr: 1.0000e-04\n",
            "Epoch 9/20\n",
            "78/78 [==============================] - ETA: 0s - loss: 3.2048 - accuracy: 0.8904\n",
            "Epoch 9: val_loss improved from 3.22031 to 3.04568, saving model to model_checkpoint.h5\n",
            "78/78 [==============================] - 429s 6s/step - loss: 3.2048 - accuracy: 0.8904 - val_loss: 3.0457 - val_accuracy: 0.9096 - lr: 1.0000e-04\n",
            "Epoch 10/20\n",
            "78/78 [==============================] - ETA: 0s - loss: 3.0240 - accuracy: 0.8900\n",
            "Epoch 10: val_loss did not improve from 3.04568\n",
            "78/78 [==============================] - 429s 5s/step - loss: 3.0240 - accuracy: 0.8900 - val_loss: 3.0523 - val_accuracy: 0.8475 - lr: 1.0000e-04\n",
            "Epoch 11/20\n",
            "78/78 [==============================] - ETA: 0s - loss: 2.8395 - accuracy: 0.8948\n",
            "Epoch 11: val_loss improved from 3.04568 to 2.75704, saving model to model_checkpoint.h5\n",
            "78/78 [==============================] - 429s 6s/step - loss: 2.8395 - accuracy: 0.8948 - val_loss: 2.7570 - val_accuracy: 0.8945 - lr: 1.0000e-04\n",
            "Epoch 12/20\n",
            "78/78 [==============================] - ETA: 0s - loss: 2.6882 - accuracy: 0.9065\n",
            "Epoch 12: val_loss improved from 2.75704 to 2.61295, saving model to model_checkpoint.h5\n",
            "78/78 [==============================] - 428s 5s/step - loss: 2.6882 - accuracy: 0.9065 - val_loss: 2.6129 - val_accuracy: 0.8927 - lr: 1.0000e-04\n",
            "Epoch 13/20\n",
            "78/78 [==============================] - ETA: 0s - loss: 2.5283 - accuracy: 0.9061\n",
            "Epoch 13: val_loss improved from 2.61295 to 2.52733, saving model to model_checkpoint.h5\n",
            "78/78 [==============================] - 429s 6s/step - loss: 2.5283 - accuracy: 0.9061 - val_loss: 2.5273 - val_accuracy: 0.8795 - lr: 1.0000e-04\n",
            "Epoch 14/20\n",
            "78/78 [==============================] - ETA: 0s - loss: 2.4320 - accuracy: 0.9041\n",
            "Epoch 14: val_loss improved from 2.52733 to 2.30936, saving model to model_checkpoint.h5\n",
            "78/78 [==============================] - 429s 5s/step - loss: 2.4320 - accuracy: 0.9041 - val_loss: 2.3094 - val_accuracy: 0.9171 - lr: 1.0000e-04\n",
            "Epoch 15/20\n",
            "78/78 [==============================] - ETA: 0s - loss: 2.3069 - accuracy: 0.8969\n",
            "Epoch 15: val_loss did not improve from 2.30936\n",
            "78/78 [==============================] - 428s 5s/step - loss: 2.3069 - accuracy: 0.8969 - val_loss: 2.3428 - val_accuracy: 0.8738 - lr: 1.0000e-04\n",
            "Epoch 16/20\n",
            "78/78 [==============================] - ETA: 0s - loss: 2.1933 - accuracy: 0.9045\n",
            "Epoch 16: val_loss improved from 2.30936 to 2.21454, saving model to model_checkpoint.h5\n",
            "78/78 [==============================] - 432s 6s/step - loss: 2.1933 - accuracy: 0.9045 - val_loss: 2.2145 - val_accuracy: 0.8738 - lr: 1.0000e-04\n",
            "Epoch 17/20\n",
            "78/78 [==============================] - ETA: 0s - loss: 2.0821 - accuracy: 0.9077\n",
            "Epoch 17: val_loss improved from 2.21454 to 2.10112, saving model to model_checkpoint.h5\n",
            "78/78 [==============================] - 427s 5s/step - loss: 2.0821 - accuracy: 0.9077 - val_loss: 2.1011 - val_accuracy: 0.8964 - lr: 1.0000e-04\n",
            "Epoch 18/20\n",
            "78/78 [==============================] - ETA: 0s - loss: 1.9844 - accuracy: 0.9106\n",
            "Epoch 18: val_loss improved from 2.10112 to 1.95475, saving model to model_checkpoint.h5\n",
            "78/78 [==============================] - 425s 5s/step - loss: 1.9844 - accuracy: 0.9106 - val_loss: 1.9547 - val_accuracy: 0.9077 - lr: 1.0000e-04\n",
            "Epoch 19/20\n",
            "78/78 [==============================] - ETA: 0s - loss: 1.8926 - accuracy: 0.9114\n",
            "Epoch 19: val_loss improved from 1.95475 to 1.79114, saving model to model_checkpoint.h5\n",
            "78/78 [==============================] - 425s 5s/step - loss: 1.8926 - accuracy: 0.9114 - val_loss: 1.7911 - val_accuracy: 0.9397 - lr: 1.0000e-04\n",
            "Epoch 20/20\n",
            "78/78 [==============================] - ETA: 0s - loss: 1.8338 - accuracy: 0.9093\n",
            "Epoch 20: val_loss improved from 1.79114 to 1.71130, saving model to model_checkpoint.h5\n",
            "78/78 [==============================] - 426s 5s/step - loss: 1.8338 - accuracy: 0.9093 - val_loss: 1.7113 - val_accuracy: 0.9303 - lr: 1.0000e-04\n",
            "Training duration: 2:29:36.486369\n"
          ]
        }
      ],
      "source": [
        "from datetime import datetime\n",
        "from keras.callbacks import ModelCheckpoint, LearningRateScheduler\n",
        "from keras.callbacks import ReduceLROnPlateau\n",
        "# Define callbacks\n",
        "checkpoint = ModelCheckpoint(\"model_checkpoint.h5\", monitor='val_loss', verbose=1, save_best_only=True, mode='min')\n",
        "lr_scheduler = ReduceLROnPlateau(monitor='val_loss', factor=0.1, patience=2, verbose=1, mode='min', min_lr=1e-6)\n",
        "\n",
        "callbacks = [checkpoint, lr_scheduler]\n",
        "\n",
        "# Training configuration\n",
        "epochs = 20\n",
        "# Start training\n",
        "start_time = datetime.now()\n",
        "\n",
        "history = model.fit(train_generator,\n",
        "                    epochs=epochs,\n",
        "                    validation_data=validation_generator,\n",
        "                    callbacks=callbacks,class_weight=class_weights)\n",
        "\n",
        "# Calculate training duration\n",
        "training_duration = datetime.now() - start_time\n",
        "print(\"Training duration:\", training_duration)\n"
      ]
    },
    {
      "cell_type": "code",
      "execution_count": null,
      "metadata": {
        "id": "HRIZMZIDTW4W",
        "colab": {
          "base_uri": "https://localhost:8080/",
          "height": 430
        },
        "outputId": "e7f321b5-f4e2-40e3-c33b-d1fcf35defec"
      },
      "outputs": [
        {
          "output_type": "display_data",
          "data": {
            "text/plain": [
              "<Figure size 640x480 with 1 Axes>"
            ],
            "image/png": "[encoded data removed]"
          },
          "metadata": {}
        }
      ],
      "source": [
        "import matplotlib.pyplot as plt\n",
        "plt.plot(history.history['accuracy'],color='red',label='train')\n",
        "plt.plot(history.history['val_accuracy'],color='blue',label='validation')\n",
        "plt.legend()\n",
        "plt.show()"
      ]
    },
    {
      "cell_type": "code",
      "source": [
        "plt.plot(history.history['loss'],color='red',label='train')\n",
        "plt.plot(history.history['val_loss'],color='blue',label='validation')\n",
        "plt.legend()\n",
        "plt.show()"
      ],
      "metadata": {
        "colab": {
          "base_uri": "https://localhost:8080/",
          "height": 430
        },
        "id": "DoAk69BpiVh-",
        "outputId": "c604e3d3-0840-47f3-9a1e-9e2df06b5925"
      },
      "execution_count": null,
      "outputs": [
        {
          "output_type": "display_data",
          "data": {
            "text/plain": [
              "<Figure size 640x480 with 1 Axes>"
            ],
            "image/png": "[encoded data removed]"
          },
          "metadata": {}
        }
      ]
    },
    {
      "cell_type": "code",
      "source": [
        "# Evaluate the model\n",
        "loss, accuracy = model.evaluate(test_generator)\n",
        "print(\"Test Loss:\", loss)\n",
        "print(\"Test Accuracy:\", accuracy)"
      ],
      "metadata": {
        "colab": {
          "base_uri": "https://localhost:8080/"
        },
        "id": "NIcqEzvRiYN_",
        "outputId": "94cbfe3d-560f-422f-fb21-58a39e31152d"
      },
      "execution_count": null,
      "outputs": [
        {
          "output_type": "stream",
          "name": "stdout",
          "text": [
            "17/17 [==============================] - 132s 8s/step - loss: 1.7288 - accuracy: 0.9364\n",
            "Test Loss: 1.728793978691101\n",
            "Test Accuracy: 0.9364485740661621\n"
          ]
        }
      ]
    },
    {
      "cell_type": "code",
      "source": [
        "from sklearn.metrics import classification_report\n",
        "\n",
        "# Assuming you have already trained your model and loaded test data\n",
        "\n",
        "# Evaluate the model on the training set\n",
        "train_loss, train_accuracy = model.evaluate(train_generator)\n",
        "\n",
        "# Predict classes for training set\n",
        "train_predictions = model.predict(train_generator)\n",
        "train_predicted_classes = np.argmax(train_predictions, axis=1)\n",
        "\n",
        "# Get true labels for training set\n",
        "train_true_classes = train_generator.classes\n",
        "\n",
        "# Get class labels\n",
        "class_labels = list(train_generator.class_indices.keys())\n",
        "\n",
        "# Generate classification report for training set\n",
        "train_report = classification_report(train_true_classes, train_predicted_classes, target_names=class_labels)\n",
        "\n",
        "print(\"Training Classification Report:\")\n",
        "print(train_report)\n",
        "\n",
        "# Evaluate the model on the test set\n",
        "test_loss, test_accuracy = model.evaluate(test_generator)\n",
        "\n",
        "# Predict classes for validation set\n",
        "test_predictions = model.predict(test_generator)\n",
        "test_predicted_classes = np.argmax(test_predictions, axis=1)\n",
        "\n",
        "# Get true labels for validation set\n",
        "test_true_classes = test_generator.classes\n",
        "\n",
        "# Generate classification report for validation set\n",
        "test_report = classification_report(test_true_classes, test_predicted_classes, target_names=class_labels)\n",
        "\n",
        "print(\"test Classification Report:\")\n",
        "print(test_report)\n"
      ],
      "metadata": {
        "id": "i3l3lVi3vswQ",
        "colab": {
          "base_uri": "https://localhost:8080/"
        },
        "outputId": "7b765d5c-4521-4d8f-8aca-3391cb046b4e"
      },
      "execution_count": null,
      "outputs": [
        {
          "output_type": "stream",
          "name": "stdout",
          "text": [
            "78/78 [==============================] - 354s 5s/step - loss: 1.7165 - accuracy: 0.9295\n",
            "78/78 [==============================] - 354s 5s/step\n",
            "Training Classification Report:\n",
            "              precision    recall  f1-score   support\n",
            "\n",
            "       COVID       0.24      0.26      0.25       604\n",
            "      NORMAL       0.36      0.35      0.36       938\n",
            "   pneumonia       0.38      0.37      0.37       940\n",
            "\n",
            "    accuracy                           0.34      2482\n",
            "   macro avg       0.33      0.33      0.33      2482\n",
            "weighted avg       0.34      0.34      0.34      2482\n",
            "\n",
            "17/17 [==============================] - 75s 4s/step - loss: 1.7288 - accuracy: 0.9364\n",
            "17/17 [==============================] - 75s 4s/step\n",
            "test Classification Report:\n",
            "              precision    recall  f1-score   support\n",
            "\n",
            "       COVID       0.25      0.25      0.25       131\n",
            "      NORMAL       0.36      0.38      0.37       202\n",
            "   pneumonia       0.37      0.35      0.36       202\n",
            "\n",
            "    accuracy                           0.33       535\n",
            "   macro avg       0.32      0.32      0.32       535\n",
            "weighted avg       0.34      0.33      0.33       535\n",
            "\n"
          ]
        }
      ]
    },
    {
      "cell_type": "code",
      "source": [],
      "metadata": {
        "id": "ZGotBTHviauY"
      },
      "execution_count": null,
      "outputs": []
    }
  ],
  "metadata": {
    "colab": {
      "machine_shape": "hm",
      "provenance": []
    },
    "kernelspec": {
      "display_name": "Python 3",
      "name": "python3"
    },
    "language_info": {
      "name": "python"
    }
  },
  "nbformat": 4,
  "nbformat_minor": 0
}