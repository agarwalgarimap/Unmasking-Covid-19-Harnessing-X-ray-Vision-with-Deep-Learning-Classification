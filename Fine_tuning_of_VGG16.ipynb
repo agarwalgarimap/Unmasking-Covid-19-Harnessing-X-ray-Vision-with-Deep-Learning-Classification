{
  "nbformat": 4,
  "nbformat_minor": 0,
  "metadata": {
    "colab": {
      "provenance": [],
      "gpuType": "T4"
    },
    "kernelspec": {
      "name": "python3",
      "display_name": "Python 3"
    },
    "language_info": {
      "name": "python"
    },
    "accelerator": "GPU"
  },
  "cells": [
    {
      "cell_type": "code",
      "execution_count": 24,
      "metadata": {
        "id": "zoXUDT7ZERt1"
      },
      "outputs": [],
      "source": [
        "import keras\n",
        "from keras.datasets import mnist\n",
        "from keras.layers import Conv2D, MaxPooling2D, AveragePooling2D\n",
        "from keras.layers import Dense, Flatten\n",
        "from keras import optimizers\n",
        "from keras.models import Sequential\n",
        "from keras.layers import Input, Lambda, Dense, Flatten, Dropout, UpSampling2D, LeakyReLU, MaxPooling2D, BatchNormalization\n",
        "from keras.models import Model\n",
        "from keras.applications.vgg16 import VGG16\n",
        "from keras.applications.vgg16 import preprocess_input\n",
        "from tensorflow import optimizers\n",
        "from keras.preprocessing import image\n",
        "from keras.preprocessing.image import ImageDataGenerator\n",
        "from keras.models import Sequential\n",
        "import numpy as np\n",
        "from glob import glob\n",
        "import matplotlib.pyplot as plt\n",
        ""
      ]
    },
    {
      "cell_type": "code",
      "source": [
        "train_datagen = ImageDataGenerator(\n",
        "    rescale=1./255,            # Rescale pixel values to [0, 1]\n",
        "    rotation_range=20,         # Randomly rotate images by up to 20 degrees\n",
        "    width_shift_range=0.2,     # Randomly shift images horizontally by up to 20% of width\n",
        "    height_shift_range=0.2,    # Randomly shift images vertically by up to 20% of height\n",
        "    shear_range=0.2,           # Apply random shear transformations\n",
        "    zoom_range=0.2,            # Randomly zoom into images by up to 20%\n",
        "    horizontal_flip=True,      # Randomly flip images horizontally\n",
        "    fill_mode='nearest'        # Fill in missing pixels with nearest pixel values\n",
        ")\n",
        "\n",
        "# Define ImageDataGenerator for validation data (no augmentation)\n",
        "validation_datagen = ImageDataGenerator(rescale=1./255)\n"
      ],
      "metadata": {
        "id": "Gvq4WtmyE34G"
      },
      "execution_count": 2,
      "outputs": []
    },
    {
      "cell_type": "code",
      "source": [
        "# Set batch size\n",
        "batch_size = 32\n",
        "\n",
        "# Flow training images in batches using train_datagen\n",
        "train_generator = train_datagen.flow_from_directory(\n",
        "    '/content/drive/MyDrive/dataset 2000 image/archive (9) - Copy - Copy/Data/train',                 # Directory containing training images\n",
        "    target_size=(224, 224),    # Resize images to match input size of VGG16\n",
        "    batch_size=batch_size,     # Batch size\n",
        "    class_mode='categorical'   # Specify categorical labels\n",
        ")\n",
        "\n",
        "# Flow validation images in batches using validation_datagen\n",
        "validation_generator = validation_datagen.flow_from_directory(\n",
        "    '/content/drive/MyDrive/dataset 2000 image/archive (9) - Copy - Copy/Data/test',            # Directory containing validation images\n",
        "    target_size=(224, 224),    # Resize images to match input size of VGG16\n",
        "    batch_size=batch_size,     # Batch size\n",
        "    class_mode='categorical'   # Specify categorical labels\n",
        ")"
      ],
      "metadata": {
        "id": "P0R0XnQ1E36N",
        "colab": {
          "base_uri": "https://localhost:8080/"
        },
        "outputId": "58982e7b-d21a-4438-9b3a-19aa1de30d21"
      },
      "execution_count": 3,
      "outputs": [
        {
          "output_type": "stream",
          "name": "stdout",
          "text": [
            "Found 1447 images belonging to 3 classes.\n",
            "Found 404 images belonging to 3 classes.\n"
          ]
        }
      ]
    },
    {
      "cell_type": "code",
      "source": [
        "base_model = VGG16(weights='imagenet', include_top=False, input_shape=(224, 224, 3))\n",
        "\n",
        "# Freeze the pre-trained layers\n",
        "for layer in base_model.layers:\n",
        "    layer.trainable = False\n",
        "\n",
        "# Define the model\n",
        "model = Sequential([\n",
        "    base_model,\n",
        "    Flatten(),\n",
        "    Dense(256, activation='relu'),\n",
        "    Dropout(0.5),  # Add dropout for regularization\n",
        "    Dense(128, activation='relu'),\n",
        "    Dense(3, activation='softmax')\n",
        "])"
      ],
      "metadata": {
        "id": "Y8JQYmjZbgVj"
      },
      "execution_count": 23,
      "outputs": []
    },
    {
      "cell_type": "code",
      "source": [
        "model.compile(loss='categorical_crossentropy',\n",
        "                    optimizer=optimizers.Adam(),\n",
        "                    metrics=['accuracy'])\n",
        "model.summary()"
      ],
      "metadata": {
        "id": "MVLCrK-ME4E4",
        "colab": {
          "base_uri": "https://localhost:8080/"
        },
        "outputId": "41ac77a5-941d-483e-8eb5-b72e5f9981a9"
      },
      "execution_count": 25,
      "outputs": [
        {
          "output_type": "stream",
          "name": "stdout",
          "text": [
            "Model: \"sequential\"\n",
            "_________________________________________________________________\n",
            " Layer (type)                Output Shape              Param #   \n",
            "=================================================================\n",
            " vgg16 (Functional)          (None, 7, 7, 512)         14714688  \n",
            "                                                                 \n",
            " flatten_3 (Flatten)         (None, 25088)             0         \n",
            "                                                                 \n",
            " dense_9 (Dense)             (None, 256)               6422784   \n",
            "                                                                 \n",
            " dropout_26 (Dropout)        (None, 256)               0         \n",
            "                                                                 \n",
            " dense_10 (Dense)            (None, 128)               32896     \n",
            "                                                                 \n",
            " dense_11 (Dense)            (None, 3)                 387       \n",
            "                                                                 \n",
            "=================================================================\n",
            "Total params: 21170755 (80.76 MB)\n",
            "Trainable params: 6456067 (24.63 MB)\n",
            "Non-trainable params: 14714688 (56.13 MB)\n",
            "_________________________________________________________________\n"
          ]
        }
      ]
    },
    {
      "cell_type": "code",
      "source": [
        "from datetime import datetime\n",
        "from keras.callbacks import ModelCheckpoint, LearningRateScheduler\n",
        "from keras.callbacks import ReduceLROnPlateau\n",
        "# Define callbacks\n",
        "checkpoint = ModelCheckpoint(\"model_checkpoint.h5\", monitor='val_loss', verbose=1, save_best_only=True, mode='min')\n",
        "lr_scheduler = ReduceLROnPlateau(monitor='val_loss', factor=0.1, patience=5, verbose=1, mode='min', min_lr=1e-6)\n",
        "\n",
        "callbacks = [checkpoint, lr_scheduler]\n",
        "\n",
        "# Define learning rate scheduler\n",
        "def lr_schedule(epoch):\n",
        "    \"\"\"\n",
        "    Learning rate scheduler.\n",
        "    \"\"\"\n",
        "    initial_lr = 0.01\n",
        "    if epoch < 8:\n",
        "        return initial_lr\n",
        "    else:\n",
        "        return initial_lr * 0.1\n",
        "\n",
        "# Training configuration\n",
        "epochs = 15\n",
        "initial_learning_rate = 0.01\n",
        "steps_per_epoch = len(train_generator)\n",
        "\n",
        "# Compile the model\n",
        "model.compile(optimizer='adam', loss='categorical_crossentropy', metrics=['accuracy'])\n",
        "\n",
        "# Start training\n",
        "start_time = datetime.now()\n",
        "\n",
        "history = model.fit(train_generator,\n",
        "                    epochs=epochs,\n",
        "                    validation_data=validation_generator,\n",
        "                    callbacks=callbacks)\n",
        "\n",
        "# Calculate training duration\n",
        "training_duration = datetime.now() - start_time\n",
        "print(\"Training duration:\", training_duration)\n"
      ],
      "metadata": {
        "colab": {
          "base_uri": "https://localhost:8080/"
        },
        "id": "S4uQT5kCHMbf",
        "outputId": "0c9a7bab-ee7c-44eb-dd81-4b565236f514"
      },
      "execution_count": 27,
      "outputs": [
        {
          "output_type": "stream",
          "name": "stdout",
          "text": [
            "Epoch 1/15\n",
            "46/46 [==============================] - ETA: 0s - loss: 1.2044 - accuracy: 0.5695\n",
            "Epoch 1: val_loss improved from inf to 0.51836, saving model to model_checkpoint.h5\n"
          ]
        },
        {
          "output_type": "stream",
          "name": "stderr",
          "text": [
            "/usr/local/lib/python3.10/dist-packages/keras/src/engine/training.py:3103: UserWarning: You are saving your model as an HDF5 file via `model.save()`. This file format is considered legacy. We recommend using instead the native Keras format, e.g. `model.save('my_model.keras')`.\n",
            "  saving_api.save_model(\n"
          ]
        },
        {
          "output_type": "stream",
          "name": "stdout",
          "text": [
            "\b\b\b\b\b\b\b\b\b\b\b\b\b\b\b\b\b\b\b\b\b\b\b\b\b\b\b\b\b\b\b\b\b\b\b\b\b\b\b\b\b\b\b\b\b\b\b\b\b\b\b\b\b\b\b\b\b\b\b\b\b\b\b\b\b\b\b\b\b\b\b\b\b\b\b\b\b\b\b\b\b\b\r46/46 [==============================] - 634s 14s/step - loss: 1.2044 - accuracy: 0.5695 - val_loss: 0.5184 - val_accuracy: 0.7525 - lr: 0.0010\n",
            "Epoch 2/15\n",
            "46/46 [==============================] - ETA: 0s - loss: 0.5489 - accuracy: 0.7761\n",
            "Epoch 2: val_loss improved from 0.51836 to 0.23918, saving model to model_checkpoint.h5\n",
            "46/46 [==============================] - 58s 1s/step - loss: 0.5489 - accuracy: 0.7761 - val_loss: 0.2392 - val_accuracy: 0.9307 - lr: 0.0010\n",
            "Epoch 3/15\n",
            "46/46 [==============================] - ETA: 0s - loss: 0.4251 - accuracy: 0.8383\n",
            "Epoch 3: val_loss did not improve from 0.23918\n",
            "46/46 [==============================] - 56s 1s/step - loss: 0.4251 - accuracy: 0.8383 - val_loss: 0.2817 - val_accuracy: 0.8960 - lr: 0.0010\n",
            "Epoch 4/15\n",
            "46/46 [==============================] - ETA: 0s - loss: 0.4045 - accuracy: 0.8404\n",
            "Epoch 4: val_loss improved from 0.23918 to 0.18829, saving model to model_checkpoint.h5\n",
            "46/46 [==============================] - 57s 1s/step - loss: 0.4045 - accuracy: 0.8404 - val_loss: 0.1883 - val_accuracy: 0.9356 - lr: 0.0010\n",
            "Epoch 5/15\n",
            "46/46 [==============================] - ETA: 0s - loss: 0.3590 - accuracy: 0.8576\n",
            "Epoch 5: val_loss did not improve from 0.18829\n",
            "46/46 [==============================] - 56s 1s/step - loss: 0.3590 - accuracy: 0.8576 - val_loss: 0.1913 - val_accuracy: 0.9356 - lr: 0.0010\n",
            "Epoch 6/15\n",
            "46/46 [==============================] - ETA: 0s - loss: 0.4222 - accuracy: 0.8231\n",
            "Epoch 6: val_loss did not improve from 0.18829\n",
            "46/46 [==============================] - 56s 1s/step - loss: 0.4222 - accuracy: 0.8231 - val_loss: 0.2360 - val_accuracy: 0.9233 - lr: 0.0010\n",
            "Epoch 7/15\n",
            "46/46 [==============================] - ETA: 0s - loss: 0.4078 - accuracy: 0.8300\n",
            "Epoch 7: val_loss improved from 0.18829 to 0.17508, saving model to model_checkpoint.h5\n",
            "46/46 [==============================] - 56s 1s/step - loss: 0.4078 - accuracy: 0.8300 - val_loss: 0.1751 - val_accuracy: 0.9307 - lr: 0.0010\n",
            "Epoch 8/15\n",
            "46/46 [==============================] - ETA: 0s - loss: 0.3281 - accuracy: 0.8639\n",
            "Epoch 8: val_loss improved from 0.17508 to 0.15790, saving model to model_checkpoint.h5\n",
            "46/46 [==============================] - 57s 1s/step - loss: 0.3281 - accuracy: 0.8639 - val_loss: 0.1579 - val_accuracy: 0.9455 - lr: 0.0010\n",
            "Epoch 9/15\n",
            "46/46 [==============================] - ETA: 0s - loss: 0.3660 - accuracy: 0.8480\n",
            "Epoch 9: val_loss did not improve from 0.15790\n",
            "46/46 [==============================] - 56s 1s/step - loss: 0.3660 - accuracy: 0.8480 - val_loss: 0.1982 - val_accuracy: 0.9257 - lr: 0.0010\n",
            "Epoch 10/15\n",
            "46/46 [==============================] - ETA: 0s - loss: 0.3018 - accuracy: 0.8867\n",
            "Epoch 10: val_loss did not improve from 0.15790\n",
            "46/46 [==============================] - 56s 1s/step - loss: 0.3018 - accuracy: 0.8867 - val_loss: 0.1634 - val_accuracy: 0.9530 - lr: 0.0010\n",
            "Epoch 11/15\n",
            "46/46 [==============================] - ETA: 0s - loss: 0.3266 - accuracy: 0.8708\n",
            "Epoch 11: val_loss did not improve from 0.15790\n",
            "46/46 [==============================] - 56s 1s/step - loss: 0.3266 - accuracy: 0.8708 - val_loss: 0.1699 - val_accuracy: 0.9480 - lr: 0.0010\n",
            "Epoch 12/15\n",
            "46/46 [==============================] - ETA: 0s - loss: 0.3309 - accuracy: 0.8715\n",
            "Epoch 12: val_loss did not improve from 0.15790\n",
            "46/46 [==============================] - 56s 1s/step - loss: 0.3309 - accuracy: 0.8715 - val_loss: 0.1676 - val_accuracy: 0.9505 - lr: 0.0010\n",
            "Epoch 13/15\n",
            "46/46 [==============================] - ETA: 0s - loss: 0.3226 - accuracy: 0.8701\n",
            "Epoch 13: val_loss did not improve from 0.15790\n",
            "\n",
            "Epoch 13: ReduceLROnPlateau reducing learning rate to 0.00010000000474974513.\n",
            "46/46 [==============================] - 55s 1s/step - loss: 0.3226 - accuracy: 0.8701 - val_loss: 0.2511 - val_accuracy: 0.9059 - lr: 0.0010\n",
            "Epoch 14/15\n",
            "46/46 [==============================] - ETA: 0s - loss: 0.3015 - accuracy: 0.8770\n",
            "Epoch 14: val_loss did not improve from 0.15790\n",
            "46/46 [==============================] - 56s 1s/step - loss: 0.3015 - accuracy: 0.8770 - val_loss: 0.1666 - val_accuracy: 0.9431 - lr: 1.0000e-04\n",
            "Epoch 15/15\n",
            "46/46 [==============================] - ETA: 0s - loss: 0.2652 - accuracy: 0.8936\n",
            "Epoch 15: val_loss did not improve from 0.15790\n",
            "46/46 [==============================] - 56s 1s/step - loss: 0.2652 - accuracy: 0.8936 - val_loss: 0.1581 - val_accuracy: 0.9431 - lr: 1.0000e-04\n",
            "Training duration: 0:27:31.809966\n"
          ]
        }
      ]
    },
    {
      "cell_type": "code",
      "source": [
        "import matplotlib.pyplot as plt\n",
        "plt.plot(history.history['accuracy'],color='red',label='train')\n",
        "plt.plot(history.history['val_accuracy'],color='blue',label='validation')\n",
        "plt.legend()\n",
        "plt.show()"
      ],
      "metadata": {
        "id": "d0kUyIM3HUB9",
        "colab": {
          "base_uri": "https://localhost:8080/",
          "height": 430
        },
        "outputId": "0281791f-54b3-4a44-a9f3-107918c586e4"
      },
      "execution_count": 28,
      "outputs": [
        {
          "output_type": "display_data",
          "data": {
            "text/plain": [
              "<Figure size 640x480 with 1 Axes>"
            ],
            "image/png": "[encoded data removed]"
          },
          "metadata": {}
        }
      ]
    },
    {
      "cell_type": "code",
      "source": [
        "plt.plot(history.history['loss'],color='red',label='train')\n",
        "plt.plot(history.history['val_loss'],color='blue',label='validation')\n",
        "plt.legend()\n",
        "plt.show()"
      ],
      "metadata": {
        "colab": {
          "base_uri": "https://localhost:8080/",
          "height": 430
        },
        "id": "SVKcdLDMvoL9",
        "outputId": "78ce4816-37be-4c95-831f-fdbb38d2e504"
      },
      "execution_count": 29,
      "outputs": [
        {
          "output_type": "display_data",
          "data": {
            "text/plain": [
              "<Figure size 640x480 with 1 Axes>"
            ],
            "image/png": "[encoded data removed]"
          },
          "metadata": {}
        }
      ]
    },
    {
      "cell_type": "code",
      "source": [
        "# Evaluate the model\n",
        "loss, accuracy = model.evaluate(validation_generator)\n",
        "print(\"Test Loss:\", loss)\n",
        "print(\"Test Accuracy:\", accuracy)"
      ],
      "metadata": {
        "colab": {
          "base_uri": "https://localhost:8080/"
        },
        "id": "ufGXiYP6vqOd",
        "outputId": "99967021-1513-4567-f2b6-11d19fed1b23"
      },
      "execution_count": 31,
      "outputs": [
        {
          "output_type": "stream",
          "name": "stdout",
          "text": [
            "13/13 [==============================] - 11s 810ms/step - loss: 0.1581 - accuracy: 0.9431\n",
            "Test Loss: 0.1581162065267563\n",
            "Test Accuracy: 0.9430692791938782\n"
          ]
        }
      ]
    },
    {
      "cell_type": "code",
      "source": [
        "from sklearn.metrics import classification_report\n",
        "\n",
        "# Assuming you have already trained your model and loaded test data\n",
        "\n",
        "# Evaluate the model on the training set\n",
        "train_loss, train_accuracy = model.evaluate(train_generator)\n",
        "\n",
        "# Predict classes for training set\n",
        "train_predictions = model.predict(train_generator)\n",
        "train_predicted_classes = np.argmax(train_predictions, axis=1)\n",
        "\n",
        "# Get true labels for training set\n",
        "train_true_classes = train_generator.classes\n",
        "\n",
        "# Get class labels\n",
        "class_labels = list(train_generator.class_indices.keys())\n",
        "\n",
        "# Generate classification report for training set\n",
        "train_report = classification_report(train_true_classes, train_predicted_classes, target_names=class_labels)\n",
        "\n",
        "print(\"Training Classification Report:\")\n",
        "print(train_report)\n",
        "\n",
        "# Evaluate the model on the validation set\n",
        "val_loss, val_accuracy = model.evaluate(validation_generator)\n",
        "\n",
        "# Predict classes for validation set\n",
        "val_predictions = model.predict(validation_generator)\n",
        "val_predicted_classes = np.argmax(val_predictions, axis=1)\n",
        "\n",
        "# Get true labels for validation set\n",
        "val_true_classes = validation_generator.classes\n",
        "\n",
        "# Generate classification report for validation set\n",
        "val_report = classification_report(val_true_classes, val_predicted_classes, target_names=class_labels)\n",
        "\n",
        "print(\"Validation Classification Report:\")\n",
        "print(val_report)\n"
      ],
      "metadata": {
        "id": "i3l3lVi3vswQ",
        "colab": {
          "base_uri": "https://localhost:8080/"
        },
        "outputId": "7761bf52-401b-4ecd-cd0e-7e324d4a5e1b"
      },
      "execution_count": 33,
      "outputs": [
        {
          "output_type": "stream",
          "name": "stdout",
          "text": [
            "46/46 [==============================] - 49s 1s/step - loss: 0.1916 - accuracy: 0.9399\n",
            "46/46 [==============================] - 48s 1s/step\n",
            "Training Classification Report:\n",
            "              precision    recall  f1-score   support\n",
            "\n",
            "     COVID19       0.33      0.32      0.32       460\n",
            "      NORMAL       0.34      0.35      0.34       504\n",
            "   PNEUMONIA       0.33      0.33      0.33       483\n",
            "\n",
            "    accuracy                           0.33      1447\n",
            "   macro avg       0.33      0.33      0.33      1447\n",
            "weighted avg       0.33      0.33      0.33      1447\n",
            "\n",
            "13/13 [==============================] - 10s 752ms/step - loss: 0.1581 - accuracy: 0.9431\n",
            "13/13 [==============================] - 10s 722ms/step\n",
            "Validation Classification Report:\n",
            "              precision    recall  f1-score   support\n",
            "\n",
            "     COVID19       0.30      0.29      0.30       116\n",
            "      NORMAL       0.36      0.41      0.39       160\n",
            "   PNEUMONIA       0.35      0.30      0.33       128\n",
            "\n",
            "    accuracy                           0.34       404\n",
            "   macro avg       0.34      0.34      0.34       404\n",
            "weighted avg       0.34      0.34      0.34       404\n",
            "\n"
          ]
        }
      ]
    },
    {
      "cell_type": "code",
      "source": [],
      "metadata": {
        "id": "eByc0ZSnjZq2"
      },
      "execution_count": null,
      "outputs": []
    }
  ]
}