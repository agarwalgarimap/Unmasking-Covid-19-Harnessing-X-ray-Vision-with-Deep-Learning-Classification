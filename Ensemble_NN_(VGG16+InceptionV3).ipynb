{
  "nbformat": 4,
  "nbformat_minor": 0,
  "metadata": {
    "colab": {
      "provenance": [],
      "gpuType": "T4"
    },
    "kernelspec": {
      "name": "python3",
      "display_name": "Python 3"
    },
    "language_info": {
      "name": "python"
    },
    "accelerator": "GPU"
  },
  "cells": [
    {
      "cell_type": "code",
      "execution_count": null,
      "metadata": {
        "id": "btRg41-F-Xdw"
      },
      "outputs": [],
      "source": [
        "import numpy as np\n",
        "import tensorflow as tf\n",
        "from tensorflow.keras.layers import Concatenate, Dense, Input, Lambda\n",
        "\n",
        "from tensorflow.keras.applications import VGG16, ResNet50, InceptionV3\n",
        "from tensorflow.keras.models import Sequential, Model\n",
        "from tensorflow.keras.layers import Concatenate, Flatten, Dense, Dropout\n",
        "from tensorflow.keras.optimizers import Adam\n",
        "from tensorflow.keras.preprocessing.image import ImageDataGenerator\n"
      ]
    },
    {
      "cell_type": "code",
      "source": [
        "train_datagen = ImageDataGenerator(\n",
        "    rescale=1./255,            # Rescale pixel values to [0, 1]\n",
        "    rotation_range=20,         # Randomly rotate images by up to 20 degrees\n",
        "    width_shift_range=0.2,     # Randomly shift images horizontally by up to 20% of width\n",
        "    height_shift_range=0.2,    # Randomly shift images vertically by up to 20% of height\n",
        "    shear_range=0.2,           # Apply random shear transformations\n",
        "    zoom_range=0.2,            # Randomly zoom into images by up to 20%\n",
        "    horizontal_flip=True,      # Randomly flip images horizontally\n",
        "    fill_mode='nearest'        # Fill in missing pixels with nearest pixel values\n",
        ")\n",
        "\n",
        "# Define ImageDataGenerator for validation data (no augmentation)\n",
        "validation_datagen = ImageDataGenerator(rescale=1./255)\n"
      ],
      "metadata": {
        "id": "hWMEMDt9-kgR"
      },
      "execution_count": null,
      "outputs": []
    },
    {
      "cell_type": "code",
      "source": [
        "# Set batch size\n",
        "batch_size = 32\n",
        "\n",
        "# Flow training images in batches using train_datagen\n",
        "train_generator = train_datagen.flow_from_directory(\n",
        "    '/content/drive/MyDrive/dataset 2000 image/archive (9) - Copy - Copy/Data/train',                 # Directory containing training images\n",
        "    target_size=(224, 224),    # Resize images to match input size of VGG16\n",
        "    batch_size=batch_size,     # Batch size\n",
        "    class_mode='categorical'   # Specify categorical labels\n",
        ")\n",
        "\n",
        "# Flow validation images in batches using validation_datagen\n",
        "validation_generator = validation_datagen.flow_from_directory(\n",
        "    '/content/drive/MyDrive/dataset 2000 image/archive (9) - Copy - Copy/Data/test',            # Directory containing validation images\n",
        "    target_size=(224, 224),    # Resize images to match input size of VGG16\n",
        "    batch_size=batch_size,     # Batch size\n",
        "    class_mode='categorical'   # Specify categorical labels\n",
        ")"
      ],
      "metadata": {
        "colab": {
          "base_uri": "https://localhost:8080/"
        },
        "id": "_8heqUu4-mGP",
        "outputId": "7948a611-48b6-4b15-8e9a-9121010137fb"
      },
      "execution_count": null,
      "outputs": [
        {
          "output_type": "stream",
          "name": "stdout",
          "text": [
            "Found 1447 images belonging to 3 classes.\n",
            "Found 404 images belonging to 3 classes.\n"
          ]
        }
      ]
    },
    {
      "cell_type": "code",
      "source": [
        "# Load pre-trained models\n",
        "vgg_model = VGG16(weights='imagenet', include_top=False, input_shape=(224, 224, 3))\n",
        "inception_model = InceptionV3(weights='imagenet', include_top=False, input_shape=(224, 224, 3))\n",
        "\n"
      ],
      "metadata": {
        "colab": {
          "base_uri": "https://localhost:8080/"
        },
        "id": "tfvzDaRN-nkV",
        "outputId": "5260feef-c239-43fa-f1a4-8c9bb37dc19a"
      },
      "execution_count": null,
      "outputs": [
        {
          "output_type": "stream",
          "name": "stdout",
          "text": [
            "Downloading data from https://storage.googleapis.com/tensorflow/keras-applications/vgg16/vgg16_weights_tf_dim_ordering_tf_kernels_notop.h5\n",
            "58889256/58889256 [==============================] - 0s 0us/step\n",
            "Downloading data from https://storage.googleapis.com/tensorflow/keras-applications/inception_v3/inception_v3_weights_tf_dim_ordering_tf_kernels_notop.h5\n",
            "87910968/87910968 [==============================] - 0s 0us/step\n"
          ]
        }
      ]
    },
    {
      "cell_type": "code",
      "source": [
        "# Freeze the convolutional layers of the base models\n",
        "vgg_model.trainable = False\n",
        "inception_model.trainable = False"
      ],
      "metadata": {
        "id": "VGv1jSq9-19R"
      },
      "execution_count": null,
      "outputs": []
    },
    {
      "cell_type": "code",
      "source": [
        "# Define input layer\n",
        "input_layer = Input(shape=(224, 224, 3))\n",
        "\n",
        "# Obtain outputs from each base model\n",
        "vgg_output = vgg_model(input_layer)\n",
        "inception_output = inception_model(input_layer)"
      ],
      "metadata": {
        "id": "JWAJ0aU1-4Zm"
      },
      "execution_count": null,
      "outputs": []
    },
    {
      "cell_type": "code",
      "source": [
        "from tensorflow.keras.layers import GlobalAveragePooling2D\n",
        "\n",
        "# Apply global average pooling to the outputs from the base models\n",
        "vgg_output = GlobalAveragePooling2D()(vgg_output)\n",
        "inception_output = GlobalAveragePooling2D()(inception_output)\n",
        "\n",
        "# Concatenate the outputs of the base models\n",
        "concatenated_features = Concatenate()([vgg_output, inception_output])"
      ],
      "metadata": {
        "id": "ZYX__67F-7AZ"
      },
      "execution_count": null,
      "outputs": []
    },
    {
      "cell_type": "code",
      "source": [
        "\n",
        "# Define an additional dense layer\n",
        "x = Dense(512, activation='relu')(concatenated_features)\n",
        "output_layer = Dense(3, activation='softmax')(x)\n"
      ],
      "metadata": {
        "id": "sQ_yj-4f--9u"
      },
      "execution_count": null,
      "outputs": []
    },
    {
      "cell_type": "code",
      "source": [
        "\n",
        "ensemble_model = Model(inputs=input_layer, outputs=output_layer)\n",
        "# Compile the model\n",
        "ensemble_model.compile(optimizer='adam', loss='categorical_crossentropy', metrics=['accuracy'])\n",
        "\n",
        "# Display model summary\n",
        "ensemble_model.summary()"
      ],
      "metadata": {
        "colab": {
          "base_uri": "https://localhost:8080/"
        },
        "id": "_e4xbbXZ_IdX",
        "outputId": "5158e0a6-abbb-4a10-8b47-551a03811d9e"
      },
      "execution_count": null,
      "outputs": [
        {
          "output_type": "stream",
          "name": "stdout",
          "text": [
            "Model: \"model\"\n",
            "__________________________________________________________________________________________________\n",
            " Layer (type)                Output Shape                 Param #   Connected to                  \n",
            "==================================================================================================\n",
            " input_3 (InputLayer)        [(None, 224, 224, 3)]        0         []                            \n",
            "                                                                                                  \n",
            " vgg16 (Functional)          (None, 7, 7, 512)            1471468   ['input_3[0][0]']             \n",
            "                                                          8                                       \n",
            "                                                                                                  \n",
            " inception_v3 (Functional)   (None, 5, 5, 2048)           2180278   ['input_3[0][0]']             \n",
            "                                                          4                                       \n",
            "                                                                                                  \n",
            " global_average_pooling2d (  (None, 512)                  0         ['vgg16[0][0]']               \n",
            " GlobalAveragePooling2D)                                                                          \n",
            "                                                                                                  \n",
            " global_average_pooling2d_1  (None, 2048)                 0         ['inception_v3[0][0]']        \n",
            "  (GlobalAveragePooling2D)                                                                        \n",
            "                                                                                                  \n",
            " concatenate_2 (Concatenate  (None, 2560)                 0         ['global_average_pooling2d[0][\n",
            " )                                                                  0]',                          \n",
            "                                                                     'global_average_pooling2d_1[0\n",
            "                                                                    ][0]']                        \n",
            "                                                                                                  \n",
            " dense (Dense)               (None, 512)                  1311232   ['concatenate_2[0][0]']       \n",
            "                                                                                                  \n",
            " dense_1 (Dense)             (None, 3)                    1539      ['dense[0][0]']               \n",
            "                                                                                                  \n",
            "==================================================================================================\n",
            "Total params: 37830243 (144.31 MB)\n",
            "Trainable params: 1312771 (5.01 MB)\n",
            "Non-trainable params: 36517472 (139.30 MB)\n",
            "__________________________________________________________________________________________________\n"
          ]
        }
      ]
    },
    {
      "cell_type": "code",
      "source": [
        "# Train the model\n",
        "history = ensemble_model.fit(\n",
        "    train_generator,\n",
        "    steps_per_epoch=len(train_generator),\n",
        "    epochs=20,\n",
        "    validation_data=validation_generator,\n",
        "    validation_steps=len(validation_generator)\n",
        ")"
      ],
      "metadata": {
        "colab": {
          "base_uri": "https://localhost:8080/"
        },
        "id": "Vho4DOSe_JM5",
        "outputId": "d3ef07ae-8f74-4db9-df7d-78c4d8999340"
      },
      "execution_count": null,
      "outputs": [
        {
          "output_type": "stream",
          "name": "stdout",
          "text": [
            "Epoch 1/20\n",
            "46/46 [==============================] - 856s 18s/step - loss: 1.0214 - accuracy: 0.6980 - val_loss: 0.4691 - val_accuracy: 0.7995\n",
            "Epoch 2/20\n",
            "46/46 [==============================] - 56s 1s/step - loss: 0.3381 - accuracy: 0.8680 - val_loss: 0.2390 - val_accuracy: 0.9158\n",
            "Epoch 3/20\n",
            "46/46 [==============================] - 56s 1s/step - loss: 0.2832 - accuracy: 0.8950 - val_loss: 0.5160 - val_accuracy: 0.7946\n",
            "Epoch 4/20\n",
            "46/46 [==============================] - 55s 1s/step - loss: 0.2420 - accuracy: 0.9102 - val_loss: 0.2962 - val_accuracy: 0.8960\n",
            "Epoch 5/20\n",
            "46/46 [==============================] - 56s 1s/step - loss: 0.2322 - accuracy: 0.9109 - val_loss: 0.2792 - val_accuracy: 0.9010\n",
            "Epoch 6/20\n",
            "46/46 [==============================] - 58s 1s/step - loss: 0.2909 - accuracy: 0.8791 - val_loss: 0.2794 - val_accuracy: 0.9035\n",
            "Epoch 7/20\n",
            "46/46 [==============================] - 56s 1s/step - loss: 0.2025 - accuracy: 0.9212 - val_loss: 0.4004 - val_accuracy: 0.8639\n",
            "Epoch 8/20\n",
            "46/46 [==============================] - 55s 1s/step - loss: 0.3086 - accuracy: 0.8770 - val_loss: 0.2446 - val_accuracy: 0.9134\n",
            "Epoch 9/20\n",
            "46/46 [==============================] - 56s 1s/step - loss: 0.2670 - accuracy: 0.8894 - val_loss: 0.3576 - val_accuracy: 0.8837\n",
            "Epoch 10/20\n",
            "46/46 [==============================] - 55s 1s/step - loss: 0.2106 - accuracy: 0.9198 - val_loss: 0.2353 - val_accuracy: 0.9183\n",
            "Epoch 11/20\n",
            "46/46 [==============================] - 57s 1s/step - loss: 0.1774 - accuracy: 0.9357 - val_loss: 0.3025 - val_accuracy: 0.8960\n",
            "Epoch 12/20\n",
            "46/46 [==============================] - 56s 1s/step - loss: 0.1925 - accuracy: 0.9261 - val_loss: 0.3773 - val_accuracy: 0.8540\n",
            "Epoch 13/20\n",
            "46/46 [==============================] - 56s 1s/step - loss: 0.1908 - accuracy: 0.9254 - val_loss: 0.3599 - val_accuracy: 0.8589\n",
            "Epoch 14/20\n",
            "46/46 [==============================] - 55s 1s/step - loss: 0.1732 - accuracy: 0.9378 - val_loss: 0.1817 - val_accuracy: 0.9332\n",
            "Epoch 15/20\n",
            "46/46 [==============================] - 55s 1s/step - loss: 0.2222 - accuracy: 0.9088 - val_loss: 0.2037 - val_accuracy: 0.9233\n",
            "Epoch 16/20\n",
            "46/46 [==============================] - 58s 1s/step - loss: 0.1778 - accuracy: 0.9233 - val_loss: 0.1979 - val_accuracy: 0.9282\n",
            "Epoch 17/20\n",
            "46/46 [==============================] - 55s 1s/step - loss: 0.1792 - accuracy: 0.9337 - val_loss: 0.2774 - val_accuracy: 0.9084\n",
            "Epoch 18/20\n",
            "46/46 [==============================] - 55s 1s/step - loss: 0.1865 - accuracy: 0.9240 - val_loss: 0.3897 - val_accuracy: 0.8787\n",
            "Epoch 19/20\n",
            "46/46 [==============================] - 55s 1s/step - loss: 0.1604 - accuracy: 0.9385 - val_loss: 0.3459 - val_accuracy: 0.8911\n",
            "Epoch 20/20\n",
            "46/46 [==============================] - 55s 1s/step - loss: 0.1681 - accuracy: 0.9371 - val_loss: 0.2711 - val_accuracy: 0.9059\n"
          ]
        }
      ]
    },
    {
      "cell_type": "code",
      "source": [
        "import matplotlib.pyplot as plt\n",
        "plt.plot(history.history['accuracy'],color='red',label='train')\n",
        "plt.plot(history.history['val_accuracy'],color='blue',label='validation')\n",
        "plt.legend()\n",
        "plt.show()"
      ],
      "metadata": {
        "colab": {
          "base_uri": "https://localhost:8080/",
          "height": 435
        },
        "id": "SGcShHiN_L9H",
        "outputId": "f742409c-354f-4428-d796-6913cb888834"
      },
      "execution_count": null,
      "outputs": [
        {
          "output_type": "display_data",
          "data": {
            "text/plain": [
              "<Figure size 640x480 with 1 Axes>"
            ],
            "image/png": "[encoded data removed]"
          },
          "metadata": {}
        }
      ]
    },
    {
      "cell_type": "code",
      "source": [
        "plt.plot(history.history['loss'],color='red',label='train')\n",
        "plt.plot(history.history['val_loss'],color='blue',label='validation')\n",
        "plt.legend()\n",
        "plt.show()\n"
      ],
      "metadata": {
        "colab": {
          "base_uri": "https://localhost:8080/",
          "height": 430
        },
        "id": "8oIZHvU6Hj8Z",
        "outputId": "f4a7a54b-72c2-4361-d7d9-934540704d5d"
      },
      "execution_count": null,
      "outputs": [
        {
          "output_type": "display_data",
          "data": {
            "text/plain": [
              "<Figure size 640x480 with 1 Axes>"
            ],
            "image/png": "[encoded data removed]"
          },
          "metadata": {}
        }
      ]
    },
    {
      "cell_type": "code",
      "source": [
        "# Evaluate the model\n",
        "loss, accuracy = ensemble_model.evaluate(validation_generator)\n",
        "print(\"Test Loss:\", loss)\n",
        "print(\"Test Accuracy:\", accuracy)"
      ],
      "metadata": {
        "colab": {
          "base_uri": "https://localhost:8080/"
        },
        "id": "n-r84Ub1HmNu",
        "outputId": "a6317bcd-edf8-4915-caa2-214fa7268bbe"
      },
      "execution_count": null,
      "outputs": [
        {
          "output_type": "stream",
          "name": "stdout",
          "text": [
            "13/13 [==============================] - 12s 769ms/step - loss: 0.2711 - accuracy: 0.9059\n",
            "Test Loss: 0.2710888683795929\n",
            "Test Accuracy: 0.905940592288971\n"
          ]
        }
      ]
    },
    {
      "cell_type": "code",
      "source": [
        "from sklearn.metrics import classification_report\n",
        "\n",
        "# Assuming you have already trained your model and loaded test data\n",
        "\n",
        "# Evaluate the model on the training set\n",
        "train_loss, train_accuracy = ensemble_model.evaluate(train_generator)\n",
        "\n",
        "# Predict classes for training set\n",
        "train_predictions = ensemble_model.predict(train_generator)\n",
        "train_predicted_classes = np.argmax(train_predictions, axis=1)\n",
        "\n",
        "# Get true labels for training set\n",
        "train_true_classes = train_generator.classes\n",
        "\n",
        "# Get class labels\n",
        "class_labels = list(train_generator.class_indices.keys())\n",
        "\n",
        "# Generate classification report for training set\n",
        "train_report = classification_report(train_true_classes, train_predicted_classes, target_names=class_labels)\n",
        "\n",
        "print(\"Training Classification Report:\")\n",
        "print(train_report)\n",
        "\n",
        "# Evaluate the model on the validation set\n",
        "val_loss, val_accuracy = ensemble_model.evaluate(validation_generator)\n",
        "\n",
        "# Predict classes for validation set\n",
        "val_predictions = ensemble_model.predict(validation_generator)\n",
        "val_predicted_classes = np.argmax(val_predictions, axis=1)\n",
        "\n",
        "# Get true labels for validation set\n",
        "val_true_classes = validation_generator.classes\n",
        "\n",
        "# Generate classification report for validation set\n",
        "val_report = classification_report(val_true_classes, val_predicted_classes, target_names=class_labels)\n",
        "\n",
        "print(\"Validation Classification Report:\")\n",
        "print(val_report)\n"
      ],
      "metadata": {
        "colab": {
          "base_uri": "https://localhost:8080/"
        },
        "id": "BJ6mCV05HoZH",
        "outputId": "f51ff972-387d-4dd3-8a00-4ceb968ac99f"
      },
      "execution_count": null,
      "outputs": [
        {
          "output_type": "stream",
          "name": "stdout",
          "text": [
            "46/46 [==============================] - 53s 1s/step - loss: 0.1423 - accuracy: 0.9496\n",
            "46/46 [==============================] - 49s 1s/step\n",
            "Training Classification Report:\n",
            "              precision    recall  f1-score   support\n",
            "\n",
            "     COVID19       0.27      0.27      0.27       460\n",
            "      NORMAL       0.33      0.35      0.34       504\n",
            "   PNEUMONIA       0.32      0.30      0.31       483\n",
            "\n",
            "    accuracy                           0.31      1447\n",
            "   macro avg       0.31      0.31      0.31      1447\n",
            "weighted avg       0.31      0.31      0.31      1447\n",
            "\n",
            "13/13 [==============================] - 9s 716ms/step - loss: 0.2711 - accuracy: 0.9059\n",
            "13/13 [==============================] - 9s 644ms/step\n",
            "Validation Classification Report:\n",
            "              precision    recall  f1-score   support\n",
            "\n",
            "     COVID19       0.26      0.23      0.24       116\n",
            "      NORMAL       0.39      0.47      0.43       160\n",
            "   PNEUMONIA       0.33      0.28      0.31       128\n",
            "\n",
            "    accuracy                           0.34       404\n",
            "   macro avg       0.33      0.33      0.33       404\n",
            "weighted avg       0.33      0.34      0.34       404\n",
            "\n"
          ]
        }
      ]
    },
    {
      "cell_type": "code",
      "source": [],
      "metadata": {
        "id": "F9kO0seJIFxa"
      },
      "execution_count": null,
      "outputs": []
    }
  ]
}