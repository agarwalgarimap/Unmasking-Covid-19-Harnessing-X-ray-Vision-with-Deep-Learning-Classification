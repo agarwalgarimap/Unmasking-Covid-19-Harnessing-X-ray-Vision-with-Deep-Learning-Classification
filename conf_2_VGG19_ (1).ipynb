{
  "cells": [
    {
      "cell_type": "code",
      "execution_count": null,
      "metadata": {
        "id": "eBElM3J4M6UJ"
      },
      "outputs": [],
      "source": []
    },
    {
      "cell_type": "code",
      "execution_count": null,
      "metadata": {
        "id": "iDYiOnLF_soJ"
      },
      "outputs": [],
      "source": [
        "import keras\n",
        "from keras.datasets import mnist\n",
        "from keras.layers import Conv2D, MaxPooling2D, AveragePooling2D\n",
        "from keras.layers import Dense, Flatten\n",
        "from keras import optimizers\n",
        "from tensorflow.keras.applications import Xception\n",
        "\n",
        "from keras.models import Sequential\n",
        "from keras.layers import Input, Lambda, Dense, Flatten, Dropout, UpSampling2D, LeakyReLU, MaxPooling2D, BatchNormalization\n",
        "from keras.models import Model\n",
        "from keras.applications.vgg16 import VGG16\n",
        "from keras.applications.vgg16 import preprocess_input\n",
        "from tensorflow import optimizers\n",
        "from keras.preprocessing import image\n",
        "from keras.preprocessing.image import ImageDataGenerator\n",
        "from keras.models import Sequential\n",
        "import numpy as np\n",
        "from glob import glob\n",
        "import matplotlib.pyplot as plt\n",
        "import keras\n",
        "from keras.datasets import mnist\n",
        "from keras.layers import Conv2D, MaxPooling2D, AveragePooling2D\n",
        "from keras.layers import Dense, Flatten\n",
        "from keras import optimizers\n",
        "from keras.models import Sequential\n",
        "from keras.layers import Input, Lambda, Dense, Flatten, Dropout, UpSampling2D, LeakyReLU, MaxPooling2D, BatchNormalization\n",
        "from keras.models import Model\n",
        "from keras.applications.vgg16 import VGG16\n",
        "from keras.applications import VGG16, VGG19\n",
        "\n",
        "from keras.applications.vgg16 import preprocess_input\n",
        "from tensorflow import optimizers\n",
        "from keras.preprocessing import image\n",
        "from keras.preprocessing.image import ImageDataGenerator\\\n",
        "\n",
        "from keras.models import Sequential\n",
        "import numpy as np\n",
        "from glob import glob\n",
        "import matplotlib.pyplot as plt\n"
      ]
    },
    {
      "cell_type": "code",
      "execution_count": null,
      "metadata": {
        "id": "mbpshfuUPTat"
      },
      "outputs": [],
      "source": [
        "import os\n",
        "import shutil\n",
        "import numpy as np\n",
        "\n",
        "\n",
        "# Define paths\n",
        "source_dir = '/content/drive/MyDrive/covid projrct dataset 2'\n",
        "train_dir = '/content/drive/MyDrive/train test val 2/train'\n",
        "val_dir = '/content/drive/MyDrive/train test val 2/val'\n",
        "test_dir = '/content/drive/MyDrive/train test val 2/test'"
      ]
    },
    {
      "cell_type": "code",
      "execution_count": null,
      "metadata": {
        "colab": {
          "base_uri": "https://localhost:8080/"
        },
        "id": "XDIM7M7bQDKr",
        "outputId": "df2774b5-d92d-41f3-c9e2-6c8568038c85"
      },
      "outputs": [
        {
          "output_type": "stream",
          "name": "stdout",
          "text": [
            "COVID\n",
            "NORMAL\n",
            "pneumonia\n",
            "Class weights: {0: 1.369757174392936, 1: 0.8820184790334044, 2: 0.8801418439716312}\n"
          ]
        }
      ],
      "source": [
        "\n",
        "\n",
        "\n",
        "\n",
        "\n",
        "# Calculate class weights\n",
        "def count_images_in_classes(directory):\n",
        "    class_counts = {}\n",
        "    for class_name in os.listdir(directory):\n",
        "        print(class_name)\n",
        "        class_path = os.path.join(directory, class_name)\n",
        "        if os.path.isdir(class_path):\n",
        "            class_counts[class_name] = len(os.listdir(class_path))\n",
        "    return class_counts\n",
        "\n",
        "train_class_counts = count_images_in_classes(train_dir)\n",
        "num_classes = len(train_class_counts)\n",
        "total_samples = sum(train_class_counts.values())\n",
        "\n",
        "class_weights = {i: total_samples / (num_classes * count) for i, count in enumerate(train_class_counts.values())}\n",
        "print(\"Class weights:\", class_weights)"
      ]
    },
    {
      "cell_type": "code",
      "execution_count": null,
      "metadata": {
        "colab": {
          "base_uri": "https://localhost:8080/"
        },
        "id": "6-DwPjLwPTd5",
        "outputId": "801f317a-7c2f-46f7-acbd-935112eece0f"
      },
      "outputs": [
        {
          "output_type": "stream",
          "name": "stdout",
          "text": [
            "Found 2482 images belonging to 3 classes.\n",
            "Found 531 images belonging to 3 classes.\n",
            "Found 535 images belonging to 3 classes.\n"
          ]
        }
      ],
      "source": [
        "from tensorflow.keras.preprocessing.image import ImageDataGenerator\n",
        "\n",
        "# ImageDataGenerator for training data with data augmentation\n",
        "train_datagen = ImageDataGenerator(\n",
        "    rescale=1./255,\n",
        "    rotation_range=20,\n",
        "    width_shift_range=0.2,\n",
        "    height_shift_range=0.2,\n",
        "    shear_range=0.2,\n",
        "    zoom_range=0.2,\n",
        "    horizontal_flip=True,\n",
        "    fill_mode='nearest'\n",
        ")\n",
        "\n",
        "# ImageDataGenerator for validation and test data without data augmentation\n",
        "val_test_datagen = ImageDataGenerator(rescale=1./255)\n",
        "\n",
        "# Data generators\n",
        "train_generator = train_datagen.flow_from_directory(\n",
        "    train_dir,\n",
        "    target_size=(224, 224),\n",
        "    batch_size=32,\n",
        "    class_mode='categorical'\n",
        ")\n",
        "\n",
        "validation_generator = val_test_datagen.flow_from_directory(\n",
        "    val_dir,\n",
        "    target_size=(224, 224),\n",
        "    batch_size=32,\n",
        "    class_mode='categorical'\n",
        ")\n",
        "\n",
        "test_generator = val_test_datagen.flow_from_directory(\n",
        "    test_dir,\n",
        "    target_size=(224, 224),\n",
        "    batch_size=32,\n",
        "    class_mode='categorical'\n",
        ")\n"
      ]
    },
    {
      "cell_type": "code",
      "source": [
        "\n",
        "num_batches = len(train_generator)\n",
        "total_new_data = num_batches * train_generator.batch_size\n",
        "\n",
        "print(\"Total new data generated:\", total_new_data)\n",
        "print(num_batches)"
      ],
      "metadata": {
        "colab": {
          "base_uri": "https://localhost:8080/"
        },
        "id": "Mw2Sp1TydykQ",
        "outputId": "22875b94-6298-48ad-a532-c645590e70df"
      },
      "execution_count": null,
      "outputs": [
        {
          "output_type": "stream",
          "name": "stdout",
          "text": [
            "Total new data generated: 2496\n",
            "78\n"
          ]
        }
      ]
    },
    {
      "cell_type": "code",
      "execution_count": null,
      "metadata": {
        "colab": {
          "base_uri": "https://localhost:8080/"
        },
        "id": "cy_U9KJPW575",
        "outputId": "33c7402e-1956-437a-a38a-3e005010f669"
      },
      "outputs": [
        {
          "output_type": "stream",
          "name": "stdout",
          "text": [
            "input_3 False\n",
            "block1_conv1 False\n",
            "block1_conv2 False\n",
            "block1_pool False\n",
            "block2_conv1 False\n",
            "block2_conv2 False\n",
            "block2_pool False\n",
            "block3_conv1 False\n",
            "block3_conv2 False\n",
            "block3_conv3 False\n",
            "block3_conv4 False\n",
            "block3_pool False\n",
            "block4_conv1 False\n",
            "block4_conv2 False\n",
            "block4_conv3 False\n",
            "block4_conv4 False\n",
            "block4_pool False\n",
            "block5_conv1 True\n",
            "block5_conv2 True\n",
            "block5_conv3 True\n",
            "block5_conv4 True\n",
            "block5_pool True\n"
          ]
        }
      ],
      "source": [
        "from tensorflow.keras.models import Sequential\n",
        "from tensorflow.keras.layers import Dense, Flatten, Dropout, BatchNormalization\n",
        "from tensorflow.keras.regularizers import l2\n",
        "from tensorflow.keras.applications import VGG16\n",
        "\n",
        "# Load pre-trained VGG16 model without top layers\n",
        "base_model = VGG19(weights='imagenet', include_top=False, input_shape=(224, 224, 3))\n",
        "\n",
        "base_model.trainable = True\n",
        "\n",
        "set_trainable = False\n",
        "\n",
        "for layer in base_model.layers:\n",
        "  if layer.name == 'block5_conv1':\n",
        "    set_trainable = True\n",
        "  if set_trainable:\n",
        "    layer.trainable = True\n",
        "  else:\n",
        "    layer.trainable = False\n",
        "\n",
        "for layer in base_model.layers:\n",
        "  print(layer.name,layer.trainable)\n"
      ]
    },
    {
      "cell_type": "code",
      "source": [
        "base_model.summary()"
      ],
      "metadata": {
        "colab": {
          "base_uri": "https://localhost:8080/"
        },
        "id": "Sg5vx1KufMlx",
        "outputId": "034f6849-78e7-4374-fdca-08a346d6dcf0"
      },
      "execution_count": null,
      "outputs": [
        {
          "output_type": "stream",
          "name": "stdout",
          "text": [
            "Model: \"vgg19\"\n",
            "_________________________________________________________________\n",
            " Layer (type)                Output Shape              Param #   \n",
            "=================================================================\n",
            " input_3 (InputLayer)        [(None, 224, 224, 3)]     0         \n",
            "                                                                 \n",
            " block1_conv1 (Conv2D)       (None, 224, 224, 64)      1792      \n",
            "                                                                 \n",
            " block1_conv2 (Conv2D)       (None, 224, 224, 64)      36928     \n",
            "                                                                 \n",
            " block1_pool (MaxPooling2D)  (None, 112, 112, 64)      0         \n",
            "                                                                 \n",
            " block2_conv1 (Conv2D)       (None, 112, 112, 128)     73856     \n",
            "                                                                 \n",
            " block2_conv2 (Conv2D)       (None, 112, 112, 128)     147584    \n",
            "                                                                 \n",
            " block2_pool (MaxPooling2D)  (None, 56, 56, 128)       0         \n",
            "                                                                 \n",
            " block3_conv1 (Conv2D)       (None, 56, 56, 256)       295168    \n",
            "                                                                 \n",
            " block3_conv2 (Conv2D)       (None, 56, 56, 256)       590080    \n",
            "                                                                 \n",
            " block3_conv3 (Conv2D)       (None, 56, 56, 256)       590080    \n",
            "                                                                 \n",
            " block3_conv4 (Conv2D)       (None, 56, 56, 256)       590080    \n",
            "                                                                 \n",
            " block3_pool (MaxPooling2D)  (None, 28, 28, 256)       0         \n",
            "                                                                 \n",
            " block4_conv1 (Conv2D)       (None, 28, 28, 512)       1180160   \n",
            "                                                                 \n",
            " block4_conv2 (Conv2D)       (None, 28, 28, 512)       2359808   \n",
            "                                                                 \n",
            " block4_conv3 (Conv2D)       (None, 28, 28, 512)       2359808   \n",
            "                                                                 \n",
            " block4_conv4 (Conv2D)       (None, 28, 28, 512)       2359808   \n",
            "                                                                 \n",
            " block4_pool (MaxPooling2D)  (None, 14, 14, 512)       0         \n",
            "                                                                 \n",
            " block5_conv1 (Conv2D)       (None, 14, 14, 512)       2359808   \n",
            "                                                                 \n",
            " block5_conv2 (Conv2D)       (None, 14, 14, 512)       2359808   \n",
            "                                                                 \n",
            " block5_conv3 (Conv2D)       (None, 14, 14, 512)       2359808   \n",
            "                                                                 \n",
            " block5_conv4 (Conv2D)       (None, 14, 14, 512)       2359808   \n",
            "                                                                 \n",
            " block5_pool (MaxPooling2D)  (None, 7, 7, 512)         0         \n",
            "                                                                 \n",
            "=================================================================\n",
            "Total params: 20024384 (76.39 MB)\n",
            "Trainable params: 9439232 (36.01 MB)\n",
            "Non-trainable params: 10585152 (40.38 MB)\n",
            "_________________________________________________________________\n"
          ]
        }
      ]
    },
    {
      "cell_type": "code",
      "source": [
        "# Define the model\n",
        "model = Sequential([\n",
        "    base_model,\n",
        "    Flatten(),\n",
        "    Dense(256, kernel_regularizer=l2(0.01)),\n",
        "    LeakyReLU(alpha=0.1),\n",
        "    BatchNormalization(),  # Add Batch Normalization\n",
        "    Dropout(0.5),  # Add dropout for regularization\n",
        "    Dense(128, kernel_regularizer=l2(0.01)),\n",
        "    LeakyReLU(alpha=0.1),\n",
        "    Dropout(0.5),\n",
        "    Dense(3, activation='softmax')\n",
        "])"
      ],
      "metadata": {
        "id": "fD7V5ivTfIhF"
      },
      "execution_count": null,
      "outputs": []
    },
    {
      "cell_type": "code",
      "execution_count": null,
      "metadata": {
        "colab": {
          "base_uri": "https://localhost:8080/"
        },
        "id": "TKcBEICCX0Su",
        "outputId": "9f21e013-86f4-470e-f5b1-5ae9d7687d9d"
      },
      "outputs": [
        {
          "output_type": "stream",
          "name": "stdout",
          "text": [
            "Model: \"sequential_1\"\n",
            "_________________________________________________________________\n",
            " Layer (type)                Output Shape              Param #   \n",
            "=================================================================\n",
            " vgg19 (Functional)          (None, 7, 7, 512)         20024384  \n",
            "                                                                 \n",
            " flatten_1 (Flatten)         (None, 25088)             0         \n",
            "                                                                 \n",
            " dense_3 (Dense)             (None, 256)               6422784   \n",
            "                                                                 \n",
            " leaky_re_lu_2 (LeakyReLU)   (None, 256)               0         \n",
            "                                                                 \n",
            " batch_normalization_1 (Bat  (None, 256)               1024      \n",
            " chNormalization)                                                \n",
            "                                                                 \n",
            " dropout_2 (Dropout)         (None, 256)               0         \n",
            "                                                                 \n",
            " dense_4 (Dense)             (None, 128)               32896     \n",
            "                                                                 \n",
            " leaky_re_lu_3 (LeakyReLU)   (None, 128)               0         \n",
            "                                                                 \n",
            " dropout_3 (Dropout)         (None, 128)               0         \n",
            "                                                                 \n",
            " dense_5 (Dense)             (None, 3)                 387       \n",
            "                                                                 \n",
            "=================================================================\n",
            "Total params: 26481475 (101.02 MB)\n",
            "Trainable params: 15895811 (60.64 MB)\n",
            "Non-trainable params: 10585664 (40.38 MB)\n",
            "_________________________________________________________________\n"
          ]
        }
      ],
      "source": [
        "from tensorflow.keras.optimizers import Adam\n",
        "model.compile(optimizer=Adam(learning_rate=0.001), loss='categorical_crossentropy', metrics=['accuracy'])\n",
        "\n",
        "model.summary()"
      ]
    },
    {
      "cell_type": "code",
      "execution_count": null,
      "metadata": {
        "colab": {
          "base_uri": "https://localhost:8080/"
        },
        "id": "Kpcl__aWYPrT",
        "outputId": "624e25f3-0a8f-477e-81b9-db17cc5542db"
      },
      "outputs": [
        {
          "metadata": {
            "tags": null
          },
          "name": "stdout",
          "output_type": "stream",
          "text": [
            "Epoch 1/20\n",
            "78/78 [==============================] - ETA: 0s - loss: 5.5776 - accuracy: 0.7313\n",
            "Epoch 1: val_loss improved from inf to 6.75770, saving model to model_checkpoint.h5\n",
            "78/78 [==============================] - 636s 8s/step - loss: 5.5776 - accuracy: 0.7313 - val_loss: 6.7577 - val_accuracy: 0.6309 - lr: 0.0010\n",
            "Epoch 2/20\n"
          ]
        },
        {
          "metadata": {
            "tags": null
          },
          "name": "stderr",
          "output_type": "stream",
          "text": [
            "/usr/local/lib/python3.10/dist-packages/keras/src/engine/training.py:3103: UserWarning: You are saving your model as an HDF5 file via `model.save()`. This file format is considered legacy. We recommend using instead the native Keras format, e.g. `model.save('my_model.keras')`.\n",
            "  saving_api.save_model(\n"
          ]
        },
        {
          "output_type": "stream",
          "name": "stdout",
          "text": [
            "78/78 [==============================] - ETA: 0s - loss: 2.9739 - accuracy: 0.8429\n",
            "Epoch 2: val_loss improved from 6.75770 to 2.95908, saving model to model_checkpoint.h5\n",
            "78/78 [==============================] - 432s 6s/step - loss: 2.9739 - accuracy: 0.8429 - val_loss: 2.9591 - val_accuracy: 0.7156 - lr: 0.0010\n",
            "Epoch 3/20\n",
            "78/78 [==============================] - ETA: 0s - loss: 1.9311 - accuracy: 0.8723\n",
            "Epoch 3: val_loss improved from 2.95908 to 1.83596, saving model to model_checkpoint.h5\n",
            "78/78 [==============================] - 432s 6s/step - loss: 1.9311 - accuracy: 0.8723 - val_loss: 1.8360 - val_accuracy: 0.8550 - lr: 0.0010\n",
            "Epoch 4/20\n",
            "78/78 [==============================] - ETA: 0s - loss: 1.3751 - accuracy: 0.8848\n",
            "Epoch 4: val_loss improved from 1.83596 to 1.14558, saving model to model_checkpoint.h5\n",
            "78/78 [==============================] - 431s 6s/step - loss: 1.3751 - accuracy: 0.8848 - val_loss: 1.1456 - val_accuracy: 0.9209 - lr: 0.0010\n",
            "Epoch 5/20\n",
            "78/78 [==============================] - ETA: 0s - loss: 1.0345 - accuracy: 0.9001\n",
            "Epoch 5: val_loss did not improve from 1.14558\n",
            "78/78 [==============================] - 439s 6s/step - loss: 1.0345 - accuracy: 0.9001 - val_loss: 1.5778 - val_accuracy: 0.7326 - lr: 0.0010\n",
            "Epoch 6/20\n",
            "78/78 [==============================] - ETA: 0s - loss: 0.8378 - accuracy: 0.9069\n",
            "Epoch 6: val_loss did not improve from 1.14558\n",
            "\n",
            "Epoch 6: ReduceLROnPlateau reducing learning rate to 0.00010000000474974513.\n",
            "78/78 [==============================] - 440s 6s/step - loss: 0.8378 - accuracy: 0.9069 - val_loss: 1.2883 - val_accuracy: 0.7665 - lr: 0.0010\n",
            "Epoch 7/20\n",
            "78/78 [==============================] - ETA: 0s - loss: 0.7101 - accuracy: 0.9178\n",
            "Epoch 7: val_loss improved from 1.14558 to 0.68378, saving model to model_checkpoint.h5\n",
            "78/78 [==============================] - 438s 6s/step - loss: 0.7101 - accuracy: 0.9178 - val_loss: 0.6838 - val_accuracy: 0.9341 - lr: 1.0000e-04\n",
            "Epoch 8/20\n",
            "78/78 [==============================] - ETA: 0s - loss: 0.6673 - accuracy: 0.9283\n",
            "Epoch 8: val_loss improved from 0.68378 to 0.63731, saving model to model_checkpoint.h5\n",
            "78/78 [==============================] - 435s 6s/step - loss: 0.6673 - accuracy: 0.9283 - val_loss: 0.6373 - val_accuracy: 0.9397 - lr: 1.0000e-04\n",
            "Epoch 9/20\n",
            "78/78 [==============================] - ETA: 0s - loss: 0.6406 - accuracy: 0.9311\n",
            "Epoch 9: val_loss did not improve from 0.63731\n",
            "78/78 [==============================] - 435s 6s/step - loss: 0.6406 - accuracy: 0.9311 - val_loss: 0.7685 - val_accuracy: 0.8719 - lr: 1.0000e-04\n",
            "Epoch 10/20\n",
            "78/78 [==============================] - ETA: 0s - loss: 0.6071 - accuracy: 0.9339\n",
            "Epoch 10: val_loss improved from 0.63731 to 0.57900, saving model to model_checkpoint.h5\n",
            "78/78 [==============================] - 434s 6s/step - loss: 0.6071 - accuracy: 0.9339 - val_loss: 0.5790 - val_accuracy: 0.9492 - lr: 1.0000e-04\n",
            "Epoch 11/20\n",
            "78/78 [==============================] - ETA: 0s - loss: 0.5989 - accuracy: 0.9279\n",
            "Epoch 11: val_loss improved from 0.57900 to 0.57670, saving model to model_checkpoint.h5\n",
            "78/78 [==============================] - 445s 6s/step - loss: 0.5989 - accuracy: 0.9279 - val_loss: 0.5767 - val_accuracy: 0.9266 - lr: 1.0000e-04\n",
            "Epoch 12/20\n",
            "78/78 [==============================] - ETA: 0s - loss: 0.5698 - accuracy: 0.9347\n",
            "Epoch 12: val_loss did not improve from 0.57670\n",
            "78/78 [==============================] - 439s 6s/step - loss: 0.5698 - accuracy: 0.9347 - val_loss: 0.5784 - val_accuracy: 0.9284 - lr: 1.0000e-04\n",
            "Epoch 13/20\n",
            "78/78 [==============================] - ETA: 0s - loss: 0.5552 - accuracy: 0.9335\n",
            "Epoch 13: val_loss did not improve from 0.57670\n",
            "\n",
            "Epoch 13: ReduceLROnPlateau reducing learning rate to 1.0000000474974514e-05.\n",
            "78/78 [==============================] - 438s 6s/step - loss: 0.5552 - accuracy: 0.9335 - val_loss: 0.6122 - val_accuracy: 0.9134 - lr: 1.0000e-04\n",
            "Epoch 14/20\n",
            "78/78 [==============================] - ETA: 0s - loss: 0.5249 - accuracy: 0.9339\n",
            "Epoch 14: val_loss improved from 0.57670 to 0.53285, saving model to model_checkpoint.h5\n",
            "78/78 [==============================] - 443s 6s/step - loss: 0.5249 - accuracy: 0.9339 - val_loss: 0.5328 - val_accuracy: 0.9435 - lr: 1.0000e-05\n",
            "Epoch 15/20\n",
            "78/78 [==============================] - ETA: 0s - loss: 0.5218 - accuracy: 0.9355\n",
            "Epoch 15: val_loss improved from 0.53285 to 0.52624, saving model to model_checkpoint.h5\n",
            "78/78 [==============================] - 435s 6s/step - loss: 0.5218 - accuracy: 0.9355 - val_loss: 0.5262 - val_accuracy: 0.9435 - lr: 1.0000e-05\n",
            "Epoch 16/20\n",
            "78/78 [==============================] - ETA: 0s - loss: 0.5084 - accuracy: 0.9343\n",
            "Epoch 16: val_loss did not improve from 0.52624\n",
            "78/78 [==============================] - 436s 6s/step - loss: 0.5084 - accuracy: 0.9343 - val_loss: 0.5298 - val_accuracy: 0.9397 - lr: 1.0000e-05\n",
            "Epoch 17/20\n",
            "78/78 [==============================] - ETA: 0s - loss: 0.5143 - accuracy: 0.9432\n",
            "Epoch 17: val_loss did not improve from 0.52624\n",
            "\n",
            "Epoch 17: ReduceLROnPlateau reducing learning rate to 1.0000000656873453e-06.\n",
            "78/78 [==============================] - 439s 6s/step - loss: 0.5143 - accuracy: 0.9432 - val_loss: 0.5439 - val_accuracy: 0.9266 - lr: 1.0000e-05\n",
            "Epoch 18/20\n",
            "78/78 [==============================] - ETA: 0s - loss: 0.5064 - accuracy: 0.9380\n",
            "Epoch 18: val_loss did not improve from 0.52624\n",
            "78/78 [==============================] - 438s 6s/step - loss: 0.5064 - accuracy: 0.9380 - val_loss: 0.5509 - val_accuracy: 0.9247 - lr: 1.0000e-06\n",
            "Epoch 19/20\n",
            "78/78 [==============================] - ETA: 0s - loss: 0.5044 - accuracy: 0.9416\n",
            "Epoch 19: val_loss did not improve from 0.52624\n",
            "\n",
            "Epoch 19: ReduceLROnPlateau reducing learning rate to 1e-06.\n",
            "78/78 [==============================] - 448s 6s/step - loss: 0.5044 - accuracy: 0.9416 - val_loss: 0.5508 - val_accuracy: 0.9247 - lr: 1.0000e-06\n",
            "Epoch 20/20\n",
            "78/78 [==============================] - ETA: 0s - loss: 0.5160 - accuracy: 0.9424\n",
            "Epoch 20: val_loss did not improve from 0.52624\n",
            "78/78 [==============================] - 439s 6s/step - loss: 0.5160 - accuracy: 0.9424 - val_loss: 0.5535 - val_accuracy: 0.9247 - lr: 1.0000e-06\n",
            "Training duration: 2:30:25.795391\n"
          ]
        }
      ],
      "source": [
        "from datetime import datetime\n",
        "from keras.callbacks import ModelCheckpoint, LearningRateScheduler\n",
        "from keras.callbacks import ReduceLROnPlateau\n",
        "# Define callbacks\n",
        "checkpoint = ModelCheckpoint(\"model_checkpoint.h5\", monitor='val_loss', verbose=1, save_best_only=True, mode='min')\n",
        "lr_scheduler = ReduceLROnPlateau(monitor='val_loss', factor=0.1, patience=2, verbose=1, mode='min', min_lr=1e-6)\n",
        "\n",
        "callbacks = [checkpoint, lr_scheduler]\n",
        "\n",
        "# Training configuration\n",
        "epochs = 20\n",
        "# Start training\n",
        "start_time = datetime.now()\n",
        "\n",
        "history = model.fit(train_generator,\n",
        "                    epochs=epochs,\n",
        "                    validation_data=validation_generator,\n",
        "                    callbacks=callbacks,class_weight=class_weights)\n",
        "\n",
        "# Calculate training duration\n",
        "training_duration = datetime.now() - start_time\n",
        "print(\"Training duration:\", training_duration)\n"
      ]
    },
    {
      "cell_type": "code",
      "execution_count": null,
      "metadata": {
        "id": "HRIZMZIDTW4W",
        "colab": {
          "base_uri": "https://localhost:8080/",
          "height": 430
        },
        "outputId": "6ff389d1-6f70-4b91-975f-bb4cc154084f"
      },
      "outputs": [
        {
          "output_type": "display_data",
          "data": {
            "text/plain": [
              "<Figure size 640x480 with 1 Axes>"
            ],
            "image/png": "[encoded data removed]"
          },
          "metadata": {}
        }
      ],
      "source": [
        "import matplotlib.pyplot as plt\n",
        "plt.plot(history.history['accuracy'],color='red',label='train')\n",
        "plt.plot(history.history['val_accuracy'],color='blue',label='validation')\n",
        "plt.legend()\n",
        "plt.show()"
      ]
    },
    {
      "cell_type": "code",
      "source": [
        "plt.plot(history.history['loss'],color='red',label='train')\n",
        "plt.plot(history.history['val_loss'],color='blue',label='validation')\n",
        "plt.legend()\n",
        "plt.show()"
      ],
      "metadata": {
        "colab": {
          "base_uri": "https://localhost:8080/",
          "height": 432
        },
        "id": "DoAk69BpiVh-",
        "outputId": "916a8404-e7c8-4fb6-d108-c9bb6263aea6"
      },
      "execution_count": null,
      "outputs": [
        {
          "output_type": "display_data",
          "data": {
            "text/plain": [
              "<Figure size 640x480 with 1 Axes>"
            ],
            "image/png": "[encoded data removed]"
          },
          "metadata": {}
        }
      ]
    },
    {
      "cell_type": "code",
      "source": [
        "# Evaluate the model\n",
        "loss, accuracy = model.evaluate(test_generator)\n",
        "print(\"Test Loss:\", loss)\n",
        "print(\"Test Accuracy:\", accuracy)"
      ],
      "metadata": {
        "colab": {
          "base_uri": "https://localhost:8080/"
        },
        "id": "NIcqEzvRiYN_",
        "outputId": "945351fe-6263-465c-d99b-0ad52917855f"
      },
      "execution_count": null,
      "outputs": [
        {
          "output_type": "stream",
          "name": "stdout",
          "text": [
            "17/17 [==============================] - 106s 6s/step - loss: 0.5824 - accuracy: 0.9159\n",
            "Test Loss: 0.5823804140090942\n",
            "Test Accuracy: 0.9158878326416016\n"
          ]
        }
      ]
    },
    {
      "cell_type": "code",
      "source": [
        "from sklearn.metrics import classification_report\n",
        "\n",
        "# Assuming you have already trained your model and loaded test data\n",
        "\n",
        "# Evaluate the model on the training set\n",
        "train_loss, train_accuracy = model.evaluate(train_generator)\n",
        "\n",
        "# Predict classes for training set\n",
        "train_predictions = model.predict(train_generator)\n",
        "train_predicted_classes = np.argmax(train_predictions, axis=1)\n",
        "\n",
        "# Get true labels for training set\n",
        "train_true_classes = train_generator.classes\n",
        "\n",
        "# Get class labels\n",
        "class_labels = list(train_generator.class_indices.keys())\n",
        "\n",
        "# Generate classification report for training set\n",
        "train_report = classification_report(train_true_classes, train_predicted_classes, target_names=class_labels)\n",
        "\n",
        "print(\"Training Classification Report:\")\n",
        "print(train_report)\n",
        "\n",
        "# Evaluate the model on the test set\n",
        "test_loss, test_accuracy = model.evaluate(test_generator)\n",
        "\n",
        "# Predict classes for validation set\n",
        "test_predictions = model.predict(test_generator)\n",
        "test_predicted_classes = np.argmax(test_predictions, axis=1)\n",
        "\n",
        "# Get true labels for validation set\n",
        "test_true_classes = test_generator.classes\n",
        "\n",
        "# Generate classification report for validation set\n",
        "test_report = classification_report(test_true_classes, test_predicted_classes, target_names=class_labels)\n",
        "\n",
        "print(\"test Classification Report:\")\n",
        "print(test_report)\n"
      ],
      "metadata": {
        "id": "i3l3lVi3vswQ",
        "colab": {
          "base_uri": "https://localhost:8080/"
        },
        "outputId": "15e78868-5b90-4aed-95cd-1e4c7b5d8bd0"
      },
      "execution_count": null,
      "outputs": [
        {
          "output_type": "stream",
          "name": "stdout",
          "text": [
            "78/78 [==============================] - 296s 4s/step - loss: 0.4880 - accuracy: 0.9569\n",
            "78/78 [==============================] - 296s 4s/step\n",
            "Training Classification Report:\n",
            "              precision    recall  f1-score   support\n",
            "\n",
            "       COVID       0.26      0.27      0.27       604\n",
            "      NORMAL       0.39      0.39      0.39       938\n",
            "   pneumonia       0.38      0.37      0.37       940\n",
            "\n",
            "    accuracy                           0.35      2482\n",
            "   macro avg       0.34      0.34      0.34      2482\n",
            "weighted avg       0.35      0.35      0.35      2482\n",
            "\n",
            "17/17 [==============================] - 64s 4s/step - loss: 0.5824 - accuracy: 0.9159\n",
            "17/17 [==============================] - 64s 4s/step\n",
            "test Classification Report:\n",
            "              precision    recall  f1-score   support\n",
            "\n",
            "       COVID       0.26      0.27      0.27       131\n",
            "      NORMAL       0.40      0.44      0.42       202\n",
            "   pneumonia       0.38      0.33      0.35       202\n",
            "\n",
            "    accuracy                           0.36       535\n",
            "   macro avg       0.35      0.35      0.35       535\n",
            "weighted avg       0.36      0.36      0.36       535\n",
            "\n"
          ]
        }
      ]
    },
    {
      "cell_type": "code",
      "source": [],
      "metadata": {
        "id": "ZGotBTHviauY"
      },
      "execution_count": null,
      "outputs": []
    }
  ],
  "metadata": {
    "colab": {
      "machine_shape": "hm",
      "provenance": []
    },
    "kernelspec": {
      "display_name": "Python 3",
      "name": "python3"
    },
    "language_info": {
      "name": "python"
    }
  },
  "nbformat": 4,
  "nbformat_minor": 0
}