{
  "nbformat": 4,
  "nbformat_minor": 0,
  "metadata": {
    "colab": {
      "provenance": [],
      "gpuType": "T4"
    },
    "kernelspec": {
      "name": "python3",
      "display_name": "Python 3"
    },
    "language_info": {
      "name": "python"
    },
    "accelerator": "GPU"
  },
  "cells": [
    {
      "cell_type": "code",
      "execution_count": null,
      "metadata": {
        "id": "Z1flL5qEcNaO"
      },
      "outputs": [],
      "source": [
        "from tensorflow.keras.preprocessing.image import ImageDataGenerator\n",
        "from tensorflow.keras.applications import VGG16\n",
        "from tensorflow.keras.layers import Dense, GlobalAveragePooling2D\n",
        "from tensorflow.keras.models import Model\n",
        "import tensorflow as tf\n",
        "from tensorflow import keras\n",
        "from keras import Sequential\n",
        "from keras.layers import Dense,Conv2D,MaxPooling2D,Flatten,BatchNormalization,Dropout\n",
        "import keras,os\n",
        "from keras.models import Sequential\n",
        "from keras.layers import Dense, Conv2D, MaxPool2D , Flatten\n",
        "from keras.preprocessing.image import ImageDataGenerator\n",
        "import numpy as np\n",
        "\n"
      ]
    },
    {
      "cell_type": "code",
      "source": [
        "\n",
        "\n",
        "train_datagen = ImageDataGenerator(\n",
        "    rescale=1./255,            # Rescale pixel values to [0, 1]\n",
        "    rotation_range=20,         # Randomly rotate images by up to 20 degrees\n",
        "    width_shift_range=0.2,     # Randomly shift images horizontally by up to 20% of width\n",
        "    height_shift_range=0.2,    # Randomly shift images vertically by up to 20% of height\n",
        "    shear_range=0.2,           # Apply random shear transformations\n",
        "    zoom_range=0.2,            # Randomly zoom into images by up to 20%\n",
        "    horizontal_flip=True,      # Randomly flip images horizontally\n",
        "    fill_mode='nearest'        # Fill in missing pixels with nearest pixel values\n",
        ")\n",
        "\n",
        "# Define ImageDataGenerator for validation data (no augmentation)\n",
        "validation_datagen = ImageDataGenerator(rescale=1./255)"
      ],
      "metadata": {
        "id": "zvhECnj3cUr6"
      },
      "execution_count": null,
      "outputs": []
    },
    {
      "cell_type": "code",
      "source": [
        "# Set batch size\n",
        "batch_size = 32\n",
        "\n",
        "# Flow training images in batches using train_datagen\n",
        "train_generator = train_datagen.flow_from_directory(\n",
        "    '/content/drive/MyDrive/archive (9) - Copy - Copy/Data/train',                 # Directory containing training images\n",
        "    target_size=(224, 224),    # Resize images to match input size of VGG16\n",
        "    batch_size=batch_size,     # Batch size\n",
        "    class_mode='categorical'   # Specify categorical labels\n",
        ")\n",
        "\n",
        "# Flow validation images in batches using validation_datagen\n",
        "validation_generator = validation_datagen.flow_from_directory(\n",
        "    '/content/drive/MyDrive/archive (9) - Copy - Copy/Data/test',            # Directory containing validation images\n",
        "    target_size=(224, 224),    # Resize images to match input size of VGG16\n",
        "    batch_size=batch_size,     # Batch size\n",
        "    class_mode='categorical'   # Specify categorical labels\n",
        ")"
      ],
      "metadata": {
        "colab": {
          "base_uri": "https://localhost:8080/"
        },
        "id": "c_4pu_qzcYe6",
        "outputId": "0441c038-0cc1-41e5-b5c2-7631adb03491"
      },
      "execution_count": null,
      "outputs": [
        {
          "output_type": "stream",
          "name": "stdout",
          "text": [
            "Found 1437 images belonging to 3 classes.\n",
            "Found 404 images belonging to 3 classes.\n"
          ]
        }
      ]
    },
    {
      "cell_type": "code",
      "source": [
        "# Load pre-trained VGG16 model without the classification layers\n",
        "base_model = VGG16(weights='imagenet', include_top=False, input_shape=(224, 224, 3))\n",
        "\n",
        "\n",
        "# Create a new model on top of the pre-trained base model\n",
        "model = Sequential([\n",
        "    base_model,\n",
        "    Flatten(),\n",
        "    Dense(256, activation='relu'),\n",
        "    Dense(3, activation='softmax')  # Adjust the number of units to match your number of classes\n",
        "])"
      ],
      "metadata": {
        "id": "20exhg6BcZQy"
      },
      "execution_count": null,
      "outputs": []
    },
    {
      "cell_type": "code",
      "source": [
        "base_model.trainable = False\n",
        "# Compile the model\n",
        "model.compile(optimizer='adam', loss='categorical_crossentropy', metrics=['accuracy'])\n",
        "\n",
        "# Print model summary\n",
        "model.summary()"
      ],
      "metadata": {
        "colab": {
          "base_uri": "https://localhost:8080/"
        },
        "id": "DeJk59dqeoj0",
        "outputId": "52d97a5d-08e4-483d-b043-43aca7cbf355"
      },
      "execution_count": null,
      "outputs": [
        {
          "output_type": "stream",
          "name": "stdout",
          "text": [
            "Model: \"sequential_2\"\n",
            "_________________________________________________________________\n",
            " Layer (type)                Output Shape              Param #   \n",
            "=================================================================\n",
            " vgg16 (Functional)          (None, 7, 7, 512)         14714688  \n",
            "                                                                 \n",
            " flatten_5 (Flatten)         (None, 25088)             0         \n",
            "                                                                 \n",
            " dense_6 (Dense)             (None, 256)               6422784   \n",
            "                                                                 \n",
            " dense_7 (Dense)             (None, 3)                 771       \n",
            "                                                                 \n",
            "=================================================================\n",
            "Total params: 21138243 (80.64 MB)\n",
            "Trainable params: 6423555 (24.50 MB)\n",
            "Non-trainable params: 14714688 (56.13 MB)\n",
            "_________________________________________________________________\n"
          ]
        }
      ]
    },
    {
      "cell_type": "code",
      "source": [
        "# Compile the model\n",
        "model.compile(optimizer='Adam', loss='categorical_crossentropy', metrics=['accuracy'])\n",
        "\n",
        "# Display model summary\n",
        "model.summary()"
      ],
      "metadata": {
        "colab": {
          "base_uri": "https://localhost:8080/"
        },
        "id": "sQZ2foofc17t",
        "outputId": "4eeafeeb-1e48-44ab-fcbe-4a223fcaff44"
      },
      "execution_count": null,
      "outputs": [
        {
          "output_type": "stream",
          "name": "stdout",
          "text": [
            "Model: \"sequential_1\"\n",
            "_________________________________________________________________\n",
            " Layer (type)                Output Shape              Param #   \n",
            "=================================================================\n",
            " resnet50 (Functional)       (None, 7, 7, 2048)        23587712  \n",
            "                                                                 \n",
            " flatten_4 (Flatten)         (None, 100352)            0         \n",
            "                                                                 \n",
            " dense_4 (Dense)             (None, 256)               25690368  \n",
            "                                                                 \n",
            " dropout (Dropout)           (None, 256)               0         \n",
            "                                                                 \n",
            " dense_5 (Dense)             (None, 3)                 771       \n",
            "                                                                 \n",
            "=================================================================\n",
            "Total params: 49278851 (187.98 MB)\n",
            "Trainable params: 25691139 (98.00 MB)\n",
            "Non-trainable params: 23587712 (89.98 MB)\n",
            "_________________________________________________________________\n"
          ]
        }
      ]
    },
    {
      "cell_type": "code",
      "source": [
        "history = model.fit(train_generator, epochs=10, validation_data=validation_generator)\n"
      ],
      "metadata": {
        "colab": {
          "base_uri": "https://localhost:8080/"
        },
        "id": "PMdm8CmPc197",
        "outputId": "5106a6b6-b5a4-4553-93f9-68296ab70aa8"
      },
      "execution_count": null,
      "outputs": [
        {
          "output_type": "stream",
          "name": "stdout",
          "text": [
            "Epoch 1/10\n",
            "45/45 [==============================] - 77s 2s/step - loss: 1.4709 - accuracy: 0.6465 - val_loss: 0.4420 - val_accuracy: 0.8441\n",
            "Epoch 2/10\n",
            "45/45 [==============================] - 60s 1s/step - loss: 0.4317 - accuracy: 0.8476 - val_loss: 0.2330 - val_accuracy: 0.9381\n",
            "Epoch 3/10\n",
            "45/45 [==============================] - 55s 1s/step - loss: 0.3008 - accuracy: 0.8914 - val_loss: 0.1839 - val_accuracy: 0.9480\n",
            "Epoch 4/10\n",
            "45/45 [==============================] - 53s 1s/step - loss: 0.2584 - accuracy: 0.9095 - val_loss: 0.1922 - val_accuracy: 0.9381\n",
            "Epoch 5/10\n",
            "45/45 [==============================] - 55s 1s/step - loss: 0.2143 - accuracy: 0.9297 - val_loss: 0.1525 - val_accuracy: 0.9505\n",
            "Epoch 6/10\n",
            "45/45 [==============================] - 54s 1s/step - loss: 0.1965 - accuracy: 0.9318 - val_loss: 0.2330 - val_accuracy: 0.9282\n",
            "Epoch 7/10\n",
            "45/45 [==============================] - 54s 1s/step - loss: 0.1916 - accuracy: 0.9311 - val_loss: 0.2453 - val_accuracy: 0.9257\n",
            "Epoch 8/10\n",
            "45/45 [==============================] - 55s 1s/step - loss: 0.1788 - accuracy: 0.9304 - val_loss: 0.1645 - val_accuracy: 0.9455\n",
            "Epoch 9/10\n",
            "45/45 [==============================] - 55s 1s/step - loss: 0.1561 - accuracy: 0.9415 - val_loss: 0.1500 - val_accuracy: 0.9480\n",
            "Epoch 10/10\n",
            "45/45 [==============================] - 53s 1s/step - loss: 0.1604 - accuracy: 0.9381 - val_loss: 0.1694 - val_accuracy: 0.9406\n"
          ]
        }
      ]
    },
    {
      "cell_type": "code",
      "source": [
        "import matplotlib.pyplot as plt\n",
        "plt.plot(history.history['accuracy'],color='red',label='train')\n",
        "plt.plot(history.history['val_accuracy'],color='blue',label='validation')\n",
        "plt.legend()\n",
        "plt.show()"
      ],
      "metadata": {
        "colab": {
          "base_uri": "https://localhost:8080/",
          "height": 430
        },
        "id": "THOvguWzc2Dp",
        "outputId": "c2f56470-4601-42e7-b0a6-3aedefd99270"
      },
      "execution_count": null,
      "outputs": [
        {
          "output_type": "display_data",
          "data": {
            "text/plain": [
              "<Figure size 640x480 with 1 Axes>"
            ],
            "image/png": "[encoded data removed]"
          },
          "metadata": {}
        }
      ]
    },
    {
      "cell_type": "code",
      "source": [
        "plt.plot(history.history['loss'],color='red',label='train')\n",
        "plt.plot(history.history['val_loss'],color='blue',label='validation')\n",
        "plt.legend()\n",
        "plt.show()"
      ],
      "metadata": {
        "colab": {
          "base_uri": "https://localhost:8080/",
          "height": 430
        },
        "id": "8lMc_F5PwAr6",
        "outputId": "723aed71-a553-4dab-a5de-827c96a21356"
      },
      "execution_count": null,
      "outputs": [
        {
          "output_type": "display_data",
          "data": {
            "text/plain": [
              "<Figure size 640x480 with 1 Axes>"
            ],
            "image/png": "[encoded data removed]"
          },
          "metadata": {}
        }
      ]
    },
    {
      "cell_type": "code",
      "source": [
        "# Evaluate the model\n",
        "loss, accuracy = model.evaluate(validation_generator)\n",
        "print(\"Test Loss:\", loss)\n",
        "print(\"Test Accuracy:\", accuracy)"
      ],
      "metadata": {
        "colab": {
          "base_uri": "https://localhost:8080/"
        },
        "id": "uwqIeYTawDTv",
        "outputId": "007b07c1-291b-4e7a-b08f-d2a7f7aa3ccf"
      },
      "execution_count": null,
      "outputs": [
        {
          "output_type": "stream",
          "name": "stdout",
          "text": [
            "13/13 [==============================] - 8s 609ms/step - loss: 0.1694 - accuracy: 0.9406\n",
            "Test Loss: 0.16937637329101562\n",
            "Test Accuracy: 0.9405940771102905\n"
          ]
        }
      ]
    },
    {
      "cell_type": "code",
      "source": [],
      "metadata": {
        "id": "T5MtsuYuwGPg"
      },
      "execution_count": null,
      "outputs": []
    }
  ]
}