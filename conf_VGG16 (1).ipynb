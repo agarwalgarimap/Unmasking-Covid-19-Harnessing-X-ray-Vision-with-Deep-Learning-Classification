{
  "nbformat": 4,
  "nbformat_minor": 0,
  "metadata": {
    "colab": {
      "provenance": [],
      "machine_shape": "hm",
      "gpuType": "L4"
    },
    "kernelspec": {
      "name": "python3",
      "display_name": "Python 3"
    },
    "language_info": {
      "name": "python"
    },
    "accelerator": "GPU"
  },
  "cells": [
    {
      "cell_type": "code",
      "execution_count": null,
      "metadata": {
        "id": "iDYiOnLF_soJ"
      },
      "outputs": [],
      "source": [
        "import keras\n",
        "from keras.datasets import mnist\n",
        "from keras.layers import Conv2D, MaxPooling2D, AveragePooling2D\n",
        "from keras.layers import Dense, Flatten\n",
        "from keras import optimizers\n",
        "from keras.models import Sequential\n",
        "from keras.layers import Input, Lambda, Dense, Flatten, Dropout, UpSampling2D, LeakyReLU, MaxPooling2D, BatchNormalization\n",
        "from keras.models import Model\n",
        "from keras.applications.vgg16 import VGG16\n",
        "from keras.applications.vgg16 import preprocess_input\n",
        "from tensorflow import optimizers\n",
        "from keras.preprocessing import image\n",
        "from keras.preprocessing.image import ImageDataGenerator\n",
        "from keras.models import Sequential\n",
        "import numpy as np\n",
        "from glob import glob\n",
        "import matplotlib.pyplot as plt\n",
        "import keras\n",
        "from keras.datasets import mnist\n",
        "from keras.layers import Conv2D, MaxPooling2D, AveragePooling2D\n",
        "from keras.layers import Dense, Flatten\n",
        "from keras import optimizers\n",
        "from keras.models import Sequential\n",
        "from keras.layers import Input, Lambda, Dense, Flatten, Dropout, UpSampling2D, LeakyReLU, MaxPooling2D, BatchNormalization\n",
        "from keras.models import Model\n",
        "from keras.applications.vgg16 import VGG16\n",
        "from keras.applications.vgg16 import preprocess_input\n",
        "from tensorflow import optimizers\n",
        "from keras.preprocessing import image\n",
        "from keras.preprocessing.image import ImageDataGenerator\n",
        "from keras.models import Sequential\n",
        "import numpy as np\n",
        "from glob import glob\n",
        "import matplotlib.pyplot as plt\n"
      ]
    },
    {
      "cell_type": "code",
      "source": [
        "from google.colab import drive\n",
        "drive.mount('/content/drive')"
      ],
      "metadata": {
        "colab": {
          "base_uri": "https://localhost:8080/"
        },
        "id": "esJ2p6pX_zuS",
        "outputId": "d86425a2-6e23-4271-a44b-37b5c8962b5f"
      },
      "execution_count": null,
      "outputs": [
        {
          "output_type": "stream",
          "name": "stdout",
          "text": [
            "Drive already mounted at /content/drive; to attempt to forcibly remount, call drive.mount(\"/content/drive\", force_remount=True).\n"
          ]
        }
      ]
    },
    {
      "cell_type": "code",
      "source": [
        "# Calculate class weights\n",
        "def count_images_in_classes(directory):\n",
        "    class_counts = {}\n",
        "    for class_name in os.listdir(directory):\n",
        "        print(class_name)\n",
        "        class_path = os.path.join(directory, class_name)\n",
        "        if os.path.isdir(class_path):\n",
        "            class_counts[class_name] = len(os.listdir(class_path))\n",
        "    return class_counts\n",
        "\n",
        "train_class_counts = count_images_in_classes(train_dir)\n",
        "num_classes = len(train_class_counts)\n",
        "total_samples = sum(train_class_counts.values())\n",
        "\n",
        "class_weights = {i: total_samples / (num_classes * count) for i, count in enumerate(train_class_counts.values())}\n",
        "print(\"Class weights:\", class_weights)"
      ],
      "metadata": {
        "colab": {
          "base_uri": "https://localhost:8080/"
        },
        "id": "9r7CvlKqTP_u",
        "outputId": "1d850c73-480b-4abf-f73f-834838a09bad"
      },
      "execution_count": null,
      "outputs": [
        {
          "output_type": "stream",
          "name": "stdout",
          "text": [
            "PNEUMONIA\n",
            "NORMAL\n",
            "COVID19\n",
            "Class weights: {0: 0.5013342228152101, 1: 1.3564981949458483, 2: 3.729528535980149}\n"
          ]
        }
      ]
    },
    {
      "cell_type": "code",
      "source": [
        "import os\n",
        "import shutil\n",
        "import numpy as np\n",
        "\n",
        "def split_data(source_dir, train_dir, val_dir, test_dir, train_ratio=0.7, val_ratio=0.15, test_ratio=0.15):\n",
        "    # Ensure the ratios sum to 1\n",
        "    assert train_ratio + val_ratio + test_ratio == 1.0, \"Ratios must sum to 1\"\n",
        "\n",
        "    # Create directories if they do not exist\n",
        "    for directory in [train_dir, val_dir, test_dir]:\n",
        "        os.makedirs(directory, exist_ok=True)\n",
        "        for class_name in os.listdir(source_dir):\n",
        "            os.makedirs(os.path.join(directory, class_name), exist_ok=True)\n",
        "\n",
        "    # Split data\n",
        "    for class_name in os.listdir(source_dir):\n",
        "        class_path = os.path.join(source_dir, class_name)\n",
        "        if not os.path.isdir(class_path):\n",
        "            continue\n",
        "\n",
        "        images = os.listdir(class_path)\n",
        "        np.random.shuffle(images)\n",
        "\n",
        "        train_split = int(train_ratio * len(images))\n",
        "        val_split = int(val_ratio * len(images))\n",
        "\n",
        "        train_images = images[:train_split]\n",
        "        val_images = images[train_split:train_split + val_split]\n",
        "        test_images = images[train_split + val_split:]\n",
        "\n",
        "        for img in train_images:\n",
        "            shutil.copy(os.path.join(class_path, img), os.path.join(train_dir, class_name, img))\n",
        "\n",
        "        for img in val_images:\n",
        "            shutil.copy(os.path.join(class_path, img), os.path.join(val_dir, class_name, img))\n",
        "\n",
        "        for img in test_images:\n",
        "            shutil.copy(os.path.join(class_path, img), os.path.join(test_dir, class_name, img))\n",
        "\n",
        "# Define paths\n",
        "source_dir = '/content/drive/MyDrive/project'\n",
        "train_dir = '/content/drive/MyDrive/train val test/train'\n",
        "val_dir = '/content/drive/MyDrive/train val test/val'\n",
        "test_dir = '/content/drive/MyDrive/train val test/test'\n",
        "\n",
        "# Split data\n",
        "split_data(source_dir, train_dir, val_dir, test_dir)\n"
      ],
      "metadata": {
        "id": "mbpshfuUPTat"
      },
      "execution_count": null,
      "outputs": []
    },
    {
      "cell_type": "code",
      "source": [
        "from tensorflow.keras.preprocessing.image import ImageDataGenerator\n",
        "\n",
        "# ImageDataGenerator for training data with data augmentation\n",
        "train_datagen = ImageDataGenerator(\n",
        "    rescale=1./255,\n",
        "    rotation_range=20,\n",
        "    width_shift_range=0.2,\n",
        "    height_shift_range=0.2,\n",
        "    shear_range=0.2,\n",
        "    zoom_range=0.2,\n",
        "    horizontal_flip=True,\n",
        "    fill_mode='nearest'\n",
        ")\n",
        "\n",
        "# ImageDataGenerator for validation and test data without data augmentation\n",
        "val_test_datagen = ImageDataGenerator(rescale=1./255)\n",
        "\n",
        "# Data generators\n",
        "train_generator = train_datagen.flow_from_directory(\n",
        "    train_dir,\n",
        "    target_size=(224, 224),\n",
        "    batch_size=32,\n",
        "    class_mode='categorical'\n",
        ")\n",
        "\n",
        "validation_generator = val_test_datagen.flow_from_directory(\n",
        "    val_dir,\n",
        "    target_size=(224, 224),\n",
        "    batch_size=32,\n",
        "    class_mode='categorical'\n",
        ")\n",
        "\n",
        "test_generator = val_test_datagen.flow_from_directory(\n",
        "    test_dir,\n",
        "    target_size=(224, 224),\n",
        "    batch_size=32,\n",
        "    class_mode='categorical'\n",
        ")\n"
      ],
      "metadata": {
        "colab": {
          "base_uri": "https://localhost:8080/"
        },
        "id": "6-DwPjLwPTd5",
        "outputId": "152305ff-63c6-42d1-b789-3472d61658ae"
      },
      "execution_count": null,
      "outputs": [
        {
          "output_type": "stream",
          "name": "stdout",
          "text": [
            "Found 4509 images belonging to 3 classes.\n",
            "Found 965 images belonging to 3 classes.\n",
            "Found 968 images belonging to 3 classes.\n"
          ]
        }
      ]
    },
    {
      "cell_type": "code",
      "source": [
        "from tensorflow.keras.models import Sequential\n",
        "from tensorflow.keras.layers import Dense, Flatten, Dropout, BatchNormalization\n",
        "from tensorflow.keras.regularizers import l2\n",
        "from tensorflow.keras.applications import VGG16\n",
        "\n",
        "# Load pre-trained VGG16 model without top layers\n",
        "base_model = VGG16(weights='imagenet', include_top=False, input_shape=(224, 224, 3))\n",
        "\n",
        "# Freeze the pre-trained layers\n",
        "for layer in base_model.layers:\n",
        "    layer.trainable = False\n",
        "\n",
        "# Define the model\n",
        "model = Sequential([\n",
        "    base_model,\n",
        "    Flatten(),\n",
        "    Dense(256, activation='relu', kernel_regularizer=l2(0.01)),  # Add L2 regularization\n",
        "    BatchNormalization(),  # Add Batch Normalization\n",
        "    Dropout(0.5),  # Add dropout for regularization\n",
        "    Dense(128, activation='relu', kernel_regularizer=l2(0.01)),  # Add L2 regularization\n",
        "    BatchNormalization(),\n",
        "    Dropout(0.5),# Add Batch Normalization\n",
        "    Dense(3, activation='softmax')\n",
        "])\n"
      ],
      "metadata": {
        "id": "cy_U9KJPW575",
        "colab": {
          "base_uri": "https://localhost:8080/"
        },
        "outputId": "692b5e59-c7a3-4f08-d8c4-795a1ce2341f"
      },
      "execution_count": null,
      "outputs": [
        {
          "output_type": "stream",
          "name": "stdout",
          "text": [
            "Downloading data from https://storage.googleapis.com/tensorflow/keras-applications/vgg16/vgg16_weights_tf_dim_ordering_tf_kernels_notop.h5\n",
            "58889256/58889256 [==============================] - 1s 0us/step\n"
          ]
        }
      ]
    },
    {
      "cell_type": "code",
      "source": [
        "model.compile(loss='categorical_crossentropy',\n",
        "                    optimizer=optimizers.Adam(),\n",
        "                    metrics=['accuracy'])\n",
        "model.summary()"
      ],
      "metadata": {
        "id": "TKcBEICCX0Su",
        "colab": {
          "base_uri": "https://localhost:8080/"
        },
        "outputId": "46b82df9-b49e-45f2-deb4-6044da7ddc94"
      },
      "execution_count": null,
      "outputs": [
        {
          "output_type": "stream",
          "name": "stdout",
          "text": [
            "Model: \"sequential\"\n",
            "_________________________________________________________________\n",
            " Layer (type)                Output Shape              Param #   \n",
            "=================================================================\n",
            " vgg16 (Functional)          (None, 7, 7, 512)         14714688  \n",
            "                                                                 \n",
            " flatten (Flatten)           (None, 25088)             0         \n",
            "                                                                 \n",
            " dense (Dense)               (None, 256)               6422784   \n",
            "                                                                 \n",
            " batch_normalization (Batch  (None, 256)               1024      \n",
            " Normalization)                                                  \n",
            "                                                                 \n",
            " dropout (Dropout)           (None, 256)               0         \n",
            "                                                                 \n",
            " dense_1 (Dense)             (None, 128)               32896     \n",
            "                                                                 \n",
            " batch_normalization_1 (Bat  (None, 128)               512       \n",
            " chNormalization)                                                \n",
            "                                                                 \n",
            " dropout_1 (Dropout)         (None, 128)               0         \n",
            "                                                                 \n",
            " dense_2 (Dense)             (None, 3)                 387       \n",
            "                                                                 \n",
            "=================================================================\n",
            "Total params: 21172291 (80.77 MB)\n",
            "Trainable params: 6456835 (24.63 MB)\n",
            "Non-trainable params: 14715456 (56.14 MB)\n",
            "_________________________________________________________________\n"
          ]
        }
      ]
    },
    {
      "cell_type": "code",
      "source": [
        "from datetime import datetime\n",
        "from keras.callbacks import ModelCheckpoint, LearningRateScheduler\n",
        "from keras.callbacks import ReduceLROnPlateau\n",
        "# Define callbacks\n",
        "checkpoint = ModelCheckpoint(\"model_checkpoint.h5\", monitor='val_loss', verbose=1, save_best_only=True, mode='min')\n",
        "lr_scheduler = ReduceLROnPlateau(monitor='val_loss', factor=0.1, patience=3, verbose=1, mode='min', min_lr=1e-6)\n",
        "\n",
        "callbacks = [checkpoint, lr_scheduler]\n",
        "\n",
        "# Training configuration\n",
        "epochs = 15\n",
        "initial_learning_rate = 0.01\n",
        "steps_per_epoch = len(train_generator)\n",
        "\n",
        "# Compile the model\n",
        "model.compile(optimizer='adam', loss='categorical_crossentropy', metrics=['accuracy'])\n",
        "\n",
        "# Start training\n",
        "start_time = datetime.now()\n",
        "\n",
        "history = model.fit(train_generator,\n",
        "                    epochs=epochs,\n",
        "                    validation_data=validation_generator,\n",
        "                    callbacks=callbacks,class_weight=class_weights)\n",
        "\n",
        "# Calculate training duration\n",
        "training_duration = datetime.now() - start_time\n",
        "print(\"Training duration:\", training_duration)\n"
      ],
      "metadata": {
        "colab": {
          "base_uri": "https://localhost:8080/"
        },
        "id": "Kpcl__aWYPrT",
        "outputId": "31b68eac-926f-4fb9-9511-cc7a5f7e888b"
      },
      "execution_count": null,
      "outputs": [
        {
          "output_type": "stream",
          "name": "stdout",
          "text": [
            "Epoch 1/15\n",
            "141/141 [==============================] - ETA: 0s - loss: 6.3496 - accuracy: 0.7112\n",
            "Epoch 1: val_loss improved from inf to 3.80956, saving model to model_checkpoint.h5\n"
          ]
        },
        {
          "output_type": "stream",
          "name": "stderr",
          "text": [
            "/usr/local/lib/python3.10/dist-packages/keras/src/engine/training.py:3103: UserWarning: You are saving your model as an HDF5 file via `model.save()`. This file format is considered legacy. We recommend using instead the native Keras format, e.g. `model.save('my_model.keras')`.\n",
            "  saving_api.save_model(\n"
          ]
        },
        {
          "output_type": "stream",
          "name": "stdout",
          "text": [
            "\b\b\b\b\b\b\b\b\b\b\b\b\b\b\b\b\b\b\b\b\b\b\b\b\b\b\b\b\b\b\b\b\b\b\b\b\b\b\b\b\b\b\b\b\b\b\b\b\b\b\b\b\b\b\b\b\b\b\b\b\b\b\b\b\b\b\b\b\b\b\b\b\b\b\b\b\b\b\b\b\b\b\b\b\r141/141 [==============================] - 116s 749ms/step - loss: 6.3496 - accuracy: 0.7112 - val_loss: 3.8096 - val_accuracy: 0.7917 - lr: 0.0010\n",
            "Epoch 2/15\n",
            "141/141 [==============================] - ETA: 0s - loss: 3.7955 - accuracy: 0.8286\n",
            "Epoch 2: val_loss improved from 3.80956 to 2.61105, saving model to model_checkpoint.h5\n",
            "141/141 [==============================] - 112s 797ms/step - loss: 3.7955 - accuracy: 0.8286 - val_loss: 2.6111 - val_accuracy: 0.9098 - lr: 0.0010\n",
            "Epoch 3/15\n",
            "141/141 [==============================] - ETA: 0s - loss: 2.9049 - accuracy: 0.8385\n",
            "Epoch 3: val_loss improved from 2.61105 to 2.04482, saving model to model_checkpoint.h5\n",
            "141/141 [==============================] - 113s 796ms/step - loss: 2.9049 - accuracy: 0.8385 - val_loss: 2.0448 - val_accuracy: 0.9389 - lr: 0.0010\n",
            "Epoch 4/15\n",
            "141/141 [==============================] - ETA: 0s - loss: 2.3761 - accuracy: 0.8525\n",
            "Epoch 4: val_loss improved from 2.04482 to 1.71634, saving model to model_checkpoint.h5\n",
            "141/141 [==============================] - 113s 800ms/step - loss: 2.3761 - accuracy: 0.8525 - val_loss: 1.7163 - val_accuracy: 0.9202 - lr: 0.0010\n",
            "Epoch 5/15\n",
            "141/141 [==============================] - ETA: 0s - loss: 2.0574 - accuracy: 0.8507\n",
            "Epoch 5: val_loss improved from 1.71634 to 1.58656, saving model to model_checkpoint.h5\n",
            "141/141 [==============================] - 112s 792ms/step - loss: 2.0574 - accuracy: 0.8507 - val_loss: 1.5866 - val_accuracy: 0.8870 - lr: 0.0010\n",
            "Epoch 6/15\n",
            "141/141 [==============================] - ETA: 0s - loss: 1.8158 - accuracy: 0.8514\n",
            "Epoch 6: val_loss improved from 1.58656 to 1.32431, saving model to model_checkpoint.h5\n",
            "141/141 [==============================] - 113s 797ms/step - loss: 1.8158 - accuracy: 0.8514 - val_loss: 1.3243 - val_accuracy: 0.9306 - lr: 0.0010\n",
            "Epoch 7/15\n",
            "141/141 [==============================] - ETA: 0s - loss: 1.6612 - accuracy: 0.8487\n",
            "Epoch 7: val_loss improved from 1.32431 to 1.23296, saving model to model_checkpoint.h5\n",
            "141/141 [==============================] - 112s 795ms/step - loss: 1.6612 - accuracy: 0.8487 - val_loss: 1.2330 - val_accuracy: 0.9202 - lr: 0.0010\n",
            "Epoch 8/15\n",
            "141/141 [==============================] - ETA: 0s - loss: 1.5453 - accuracy: 0.8507\n",
            "Epoch 8: val_loss did not improve from 1.23296\n",
            "141/141 [==============================] - 112s 792ms/step - loss: 1.5453 - accuracy: 0.8507 - val_loss: 1.2405 - val_accuracy: 0.8725 - lr: 0.0010\n",
            "Epoch 9/15\n",
            "141/141 [==============================] - ETA: 0s - loss: 1.4342 - accuracy: 0.8596\n",
            "Epoch 9: val_loss improved from 1.23296 to 1.00359, saving model to model_checkpoint.h5\n",
            "141/141 [==============================] - 112s 792ms/step - loss: 1.4342 - accuracy: 0.8596 - val_loss: 1.0036 - val_accuracy: 0.9244 - lr: 0.0010\n",
            "Epoch 10/15\n",
            "141/141 [==============================] - ETA: 0s - loss: 1.3750 - accuracy: 0.8492\n",
            "Epoch 10: val_loss improved from 1.00359 to 0.96147, saving model to model_checkpoint.h5\n",
            "141/141 [==============================] - 112s 795ms/step - loss: 1.3750 - accuracy: 0.8492 - val_loss: 0.9615 - val_accuracy: 0.9212 - lr: 0.0010\n",
            "Epoch 11/15\n",
            "141/141 [==============================] - ETA: 0s - loss: 1.2555 - accuracy: 0.8541\n",
            "Epoch 11: val_loss improved from 0.96147 to 0.95864, saving model to model_checkpoint.h5\n",
            "141/141 [==============================] - 113s 798ms/step - loss: 1.2555 - accuracy: 0.8541 - val_loss: 0.9586 - val_accuracy: 0.8850 - lr: 0.0010\n",
            "Epoch 12/15\n",
            "141/141 [==============================] - ETA: 0s - loss: 1.1977 - accuracy: 0.8561\n",
            "Epoch 12: val_loss improved from 0.95864 to 0.95049, saving model to model_checkpoint.h5\n",
            "141/141 [==============================] - 112s 796ms/step - loss: 1.1977 - accuracy: 0.8561 - val_loss: 0.9505 - val_accuracy: 0.8943 - lr: 0.0010\n",
            "Epoch 13/15\n",
            "141/141 [==============================] - ETA: 0s - loss: 1.1647 - accuracy: 0.8567\n",
            "Epoch 13: val_loss did not improve from 0.95049\n",
            "141/141 [==============================] - 112s 789ms/step - loss: 1.1647 - accuracy: 0.8567 - val_loss: 1.1237 - val_accuracy: 0.7886 - lr: 0.0010\n",
            "Epoch 14/15\n",
            "141/141 [==============================] - ETA: 0s - loss: 1.1100 - accuracy: 0.8612\n",
            "Epoch 14: val_loss improved from 0.95049 to 0.85324, saving model to model_checkpoint.h5\n",
            "141/141 [==============================] - 112s 795ms/step - loss: 1.1100 - accuracy: 0.8612 - val_loss: 0.8532 - val_accuracy: 0.8777 - lr: 0.0010\n",
            "Epoch 15/15\n",
            "141/141 [==============================] - ETA: 0s - loss: 1.0837 - accuracy: 0.8525\n",
            "Epoch 15: val_loss improved from 0.85324 to 0.72076, saving model to model_checkpoint.h5\n",
            "141/141 [==============================] - 112s 792ms/step - loss: 1.0837 - accuracy: 0.8525 - val_loss: 0.7208 - val_accuracy: 0.9337 - lr: 0.0010\n",
            "Training duration: 0:28:07.713188\n"
          ]
        }
      ]
    },
    {
      "cell_type": "code",
      "source": [
        "\n",
        "\n",
        "# Evaluate the model on the test data\n",
        "test_loss, test_accuracy = model.evaluate(test_generator)\n",
        "print(\"Test Accuracy:\", test_accuracy)"
      ],
      "metadata": {
        "id": "_GmnynEwZFUN",
        "colab": {
          "base_uri": "https://localhost:8080/"
        },
        "outputId": "c1b49b8e-28e6-4d53-dcd9-2a176f4f05eb"
      },
      "execution_count": null,
      "outputs": [
        {
          "output_type": "stream",
          "name": "stdout",
          "text": [
            "31/31 [==============================] - 14s 438ms/step - loss: 0.7354 - accuracy: 0.9287\n",
            "Test Accuracy: 0.9287189841270447\n"
          ]
        }
      ]
    },
    {
      "cell_type": "code",
      "source": [
        "import matplotlib.pyplot as plt\n",
        "plt.plot(history.history['accuracy'],color='red',label='train')\n",
        "plt.plot(history.history['val_accuracy'],color='blue',label='validation')\n",
        "plt.legend()\n",
        "plt.show()"
      ],
      "metadata": {
        "colab": {
          "base_uri": "https://localhost:8080/",
          "height": 435
        },
        "id": "1lZ-3AjWbwzZ",
        "outputId": "70720a99-933c-4091-da5b-7c0f49f87042"
      },
      "execution_count": null,
      "outputs": [
        {
          "output_type": "display_data",
          "data": {
            "text/plain": [
              "<Figure size 640x480 with 1 Axes>"
            ],
            "image/png": "[encoded data removed]"
          },
          "metadata": {}
        }
      ]
    },
    {
      "cell_type": "code",
      "source": [
        "plt.plot(history.history['loss'],color='red',label='train')\n",
        "plt.plot(history.history['val_loss'],color='blue',label='validation')\n",
        "plt.legend()\n",
        "plt.show()"
      ],
      "metadata": {
        "colab": {
          "base_uri": "https://localhost:8080/",
          "height": 430
        },
        "id": "-b7Hxxqzb-p6",
        "outputId": "a19e3f91-0152-4287-f4de-814aaffabe9b"
      },
      "execution_count": null,
      "outputs": [
        {
          "output_type": "display_data",
          "data": {
            "text/plain": [
              "<Figure size 640x480 with 1 Axes>"
            ],
            "image/png": "[encoded data removed]"
          },
          "metadata": {}
        }
      ]
    },
    {
      "cell_type": "code",
      "source": [
        "# Evaluate the model\n",
        "loss, accuracy = model.evaluate(test_generator)\n",
        "print(\"Test Loss:\", loss)\n",
        "print(\"Test Accuracy:\", accuracy)"
      ],
      "metadata": {
        "colab": {
          "base_uri": "https://localhost:8080/"
        },
        "id": "reoskxpBcB-f",
        "outputId": "6306a48c-7387-407c-9b8c-bf17ee68ff6a"
      },
      "execution_count": null,
      "outputs": [
        {
          "output_type": "stream",
          "name": "stdout",
          "text": [
            "31/31 [==============================] - 12s 390ms/step - loss: 0.7354 - accuracy: 0.9287\n",
            "Test Loss: 0.735359787940979\n",
            "Test Accuracy: 0.9287189841270447\n"
          ]
        }
      ]
    },
    {
      "cell_type": "code",
      "source": [],
      "metadata": {
        "id": "avLnfgPOcI2K"
      },
      "execution_count": null,
      "outputs": []
    },
    {
      "cell_type": "code",
      "source": [
        "from sklearn.metrics import classification_report\n",
        "\n",
        "# Assuming you have already trained your model and loaded test data\n",
        "\n",
        "# Evaluate the model on the training set\n",
        "train_loss, train_accuracy = model.evaluate(train_generator)\n",
        "\n",
        "# Predict classes for training set\n",
        "train_predictions = model.predict(train_generator)\n",
        "train_predicted_classes = np.argmax(train_predictions, axis=1)\n",
        "\n",
        "# Get true labels for training set\n",
        "train_true_classes = train_generator.classes\n",
        "\n",
        "# Get class labels\n",
        "class_labels = list(train_generator.class_indices.keys())\n",
        "\n",
        "# Generate classification report for training set\n",
        "train_report = classification_report(train_true_classes, train_predicted_classes, target_names=class_labels)\n",
        "\n",
        "print(\"Training Classification Report:\")\n",
        "print(train_report)\n",
        "\n",
        "# Evaluate the model on the test set\n",
        "test_loss, test_accuracy = model.evaluate(test_generator)\n",
        "\n",
        "# Predict classes for validation set\n",
        "test_predictions = model.predict(test_generator)\n",
        "test_predicted_classes = np.argmax(test_predictions, axis=1)\n",
        "\n",
        "# Get true labels for validation set\n",
        "test_true_classes = test_generator.classes\n",
        "\n",
        "# Generate classification report for validation set\n",
        "test_report = classification_report(test_true_classes, test_predicted_classes, target_names=class_labels)\n",
        "\n",
        "print(\"test Classification Report:\")\n",
        "print(test_report)\n"
      ],
      "metadata": {
        "id": "i3l3lVi3vswQ",
        "colab": {
          "base_uri": "https://localhost:8080/"
        },
        "outputId": "fb2c2898-5871-48e4-ee58-d6be03168c37"
      },
      "execution_count": null,
      "outputs": [
        {
          "output_type": "stream",
          "name": "stdout",
          "text": [
            "141/141 [==============================] - 99s 704ms/step - loss: 0.8239 - accuracy: 0.8762\n",
            "141/141 [==============================] - 100s 706ms/step\n",
            "Training Classification Report:\n",
            "              precision    recall  f1-score   support\n",
            "\n",
            "     COVID19       0.11      0.10      0.10       403\n",
            "      NORMAL       0.28      0.18      0.21      1108\n",
            "   PNEUMONIA       0.67      0.77      0.72      2998\n",
            "\n",
            "    accuracy                           0.56      4509\n",
            "   macro avg       0.35      0.35      0.35      4509\n",
            "weighted avg       0.53      0.56      0.54      4509\n",
            "\n",
            "31/31 [==============================] - 12s 386ms/step - loss: 0.7354 - accuracy: 0.9287\n",
            "31/31 [==============================] - 12s 390ms/step\n",
            "test Classification Report:\n",
            "              precision    recall  f1-score   support\n",
            "\n",
            "     COVID19       0.10      0.11      0.11        87\n",
            "      NORMAL       0.22      0.18      0.19       238\n",
            "   PNEUMONIA       0.66      0.68      0.67       643\n",
            "\n",
            "    accuracy                           0.51       968\n",
            "   macro avg       0.32      0.33      0.32       968\n",
            "weighted avg       0.50      0.51      0.50       968\n",
            "\n"
          ]
        }
      ]
    },
    {
      "cell_type": "code",
      "source": [],
      "metadata": {
        "id": "sFfVjasRcv66"
      },
      "execution_count": null,
      "outputs": []
    }
  ]
}