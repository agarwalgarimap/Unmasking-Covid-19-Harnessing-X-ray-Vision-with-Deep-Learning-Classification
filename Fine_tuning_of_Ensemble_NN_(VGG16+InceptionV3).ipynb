{
  "nbformat": 4,
  "nbformat_minor": 0,
  "metadata": {
    "colab": {
      "provenance": [],
      "gpuType": "T4"
    },
    "kernelspec": {
      "name": "python3",
      "display_name": "Python 3"
    },
    "language_info": {
      "name": "python"
    },
    "accelerator": "GPU"
  },
  "cells": [
    {
      "cell_type": "code",
      "execution_count": null,
      "metadata": {
        "id": "btRg41-F-Xdw"
      },
      "outputs": [],
      "source": [
        "import numpy as np\n",
        "import numpy as np\n",
        "from tensorflow import optimizers\n",
        "\n",
        "from keras.models import Model\n",
        "from keras.layers import Input, concatenate, Dense, Dropout, Flatten\n",
        "from keras.optimizers import Adam\n",
        "from keras.applications import VGG16, InceptionV3\n",
        "from keras.utils import to_categorical\n",
        "from keras.datasets import cifar10\n",
        "from keras.preprocessing.image import ImageDataGenerator\n",
        "from keras.callbacks import EarlyStopping\n"
      ]
    },
    {
      "cell_type": "code",
      "source": [
        "train_datagen = ImageDataGenerator(\n",
        "    rescale=1./255,            # Rescale pixel values to [0, 1]\n",
        "    rotation_range=20,         # Randomly rotate images by up to 20 degrees\n",
        "    width_shift_range=0.2,     # Randomly shift images horizontally by up to 20% of width\n",
        "    height_shift_range=0.2,    # Randomly shift images vertically by up to 20% of height\n",
        "    shear_range=0.2,           # Apply random shear transformations\n",
        "    zoom_range=0.2,            # Randomly zoom into images by up to 20%\n",
        "    horizontal_flip=True,      # Randomly flip images horizontally\n",
        "    fill_mode='nearest'        # Fill in missing pixels with nearest pixel values\n",
        ")\n",
        "\n",
        "# Define ImageDataGenerator for validation data (no augmentation)\n",
        "validation_datagen = ImageDataGenerator(rescale=1./255)\n"
      ],
      "metadata": {
        "id": "hWMEMDt9-kgR"
      },
      "execution_count": null,
      "outputs": []
    },
    {
      "cell_type": "code",
      "source": [
        "from google.colab import drive\n",
        "drive.mount('/content/drive')"
      ],
      "metadata": {
        "colab": {
          "base_uri": "https://localhost:8080/"
        },
        "id": "IEK2yl9TOIcS",
        "outputId": "84111e71-9ea7-4e36-e7da-72eb7a5d4795"
      },
      "execution_count": null,
      "outputs": [
        {
          "output_type": "stream",
          "name": "stdout",
          "text": [
            "Drive already mounted at /content/drive; to attempt to forcibly remount, call drive.mount(\"/content/drive\", force_remount=True).\n"
          ]
        }
      ]
    },
    {
      "cell_type": "code",
      "source": [
        "# Set batch size\n",
        "batch_size = 32\n",
        "\n",
        "# Flow training images in batches using train_datagen\n",
        "train_generator = train_datagen.flow_from_directory(\n",
        "    '/content/drive/MyDrive/dataset 2000 image/archive (9) - Copy - Copy/Data/train',                 # Directory containing training images\n",
        "    target_size=(224, 224),    # Resize images to match input size of VGG16\n",
        "    batch_size=batch_size,     # Batch size\n",
        "    class_mode='categorical'   # Specify categorical labels\n",
        ")\n",
        "\n",
        "# Flow validation images in batches using validation_datagen\n",
        "validation_generator = validation_datagen.flow_from_directory(\n",
        "    '/content/drive/MyDrive/dataset 2000 image/archive (9) - Copy - Copy/Data/test',            # Directory containing validation images\n",
        "    target_size=(224, 224),    # Resize images to match input size of VGG16\n",
        "    batch_size=batch_size,     # Batch size\n",
        "    class_mode='categorical'   # Specify categorical labels\n",
        ")"
      ],
      "metadata": {
        "colab": {
          "base_uri": "https://localhost:8080/"
        },
        "id": "_8heqUu4-mGP",
        "outputId": "fe24b83e-187b-49ce-898e-25c47b9adb1f"
      },
      "execution_count": null,
      "outputs": [
        {
          "output_type": "stream",
          "name": "stdout",
          "text": [
            "Found 1447 images belonging to 3 classes.\n",
            "Found 404 images belonging to 3 classes.\n"
          ]
        }
      ]
    },
    {
      "cell_type": "code",
      "source": [
        "# Load VGG16 model with pretrained weights\n",
        "vgg_base = VGG16(weights='imagenet', include_top=False, input_shape=(224, 224, 3))\n",
        "inception_base = InceptionV3(weights='imagenet', include_top=False, input_shape=(224, 224, 3))\n",
        "\n",
        "# Define input layer\n",
        "input_layer = Input(shape=(224, 224, 3))\n",
        "\n",
        "# Obtain outputs from each base model\n",
        "vgg_output = vgg_base(input_layer)\n",
        "inception_output = inception_base(input_layer)"
      ],
      "metadata": {
        "id": "GrlbJXmNO9hQ"
      },
      "execution_count": null,
      "outputs": []
    },
    {
      "cell_type": "code",
      "source": [
        "from tensorflow.keras.layers import GlobalAveragePooling2D\n",
        "\n",
        "# Apply global average pooling to the outputs from the base models\n",
        "vgg_output = GlobalAveragePooling2D()(vgg_output)\n",
        "inception_output = GlobalAveragePooling2D()(inception_output)"
      ],
      "metadata": {
        "id": "BlEfKziYRozJ"
      },
      "execution_count": null,
      "outputs": []
    },
    {
      "cell_type": "code",
      "source": [
        "# Concatenate outputs of both models\n",
        "merged_output = concatenate([vgg_output, inception_output])\n"
      ],
      "metadata": {
        "id": "TMHxELi-O9jP"
      },
      "execution_count": null,
      "outputs": []
    },
    {
      "cell_type": "code",
      "source": [
        "# Add dense layers for classification with dropout and regularization\n",
        "x = Dense(512, activation='relu')(merged_output)\n",
        "x = Dropout(0.5)(x)\n",
        "predictions = Dense(3, activation='softmax')(x)\n",
        "\n",
        "# Create model\n",
        "ensemble_model = Model(inputs=input_layer, outputs=predictions)"
      ],
      "metadata": {
        "id": "7uW7LO4BO9lh"
      },
      "execution_count": null,
      "outputs": []
    },
    {
      "cell_type": "code",
      "source": [
        "# Freeze layers in both models\n",
        "for layer in vgg_base.layers:\n",
        "    layer.trainable = False\n",
        "for layer in inception_base.layers:\n",
        "    layer.trainable = False\n"
      ],
      "metadata": {
        "id": "76ZD9KS_O9ns"
      },
      "execution_count": null,
      "outputs": []
    },
    {
      "cell_type": "code",
      "source": [
        "ensemble_model.compile(loss='categorical_crossentropy',\n",
        "                    optimizer=optimizers.Adam(),\n",
        "                    metrics=['accuracy'])\n",
        "ensemble_model.summary()"
      ],
      "metadata": {
        "colab": {
          "base_uri": "https://localhost:8080/"
        },
        "id": "zZlmo1zbO9qN",
        "outputId": "de013842-ec66-40db-9e4c-87e779520294"
      },
      "execution_count": null,
      "outputs": [
        {
          "output_type": "stream",
          "name": "stdout",
          "text": [
            "Model: \"model_2\"\n",
            "__________________________________________________________________________________________________\n",
            " Layer (type)                Output Shape                 Param #   Connected to                  \n",
            "==================================================================================================\n",
            " input_8 (InputLayer)        [(None, 224, 224, 3)]        0         []                            \n",
            "                                                                                                  \n",
            " vgg16 (Functional)          (None, 7, 7, 512)            1471468   ['input_8[0][0]']             \n",
            "                                                          8                                       \n",
            "                                                                                                  \n",
            " inception_v3 (Functional)   (None, 5, 5, 2048)           2180278   ['input_8[0][0]']             \n",
            "                                                          4                                       \n",
            "                                                                                                  \n",
            " global_average_pooling2d (  (None, 512)                  0         ['vgg16[0][0]']               \n",
            " GlobalAveragePooling2D)                                                                          \n",
            "                                                                                                  \n",
            " global_average_pooling2d_1  (None, 2048)                 0         ['inception_v3[0][0]']        \n",
            "  (GlobalAveragePooling2D)                                                                        \n",
            "                                                                                                  \n",
            " concatenate_7 (Concatenate  (None, 2560)                 0         ['global_average_pooling2d[0][\n",
            " )                                                                  0]',                          \n",
            "                                                                     'global_average_pooling2d_1[0\n",
            "                                                                    ][0]']                        \n",
            "                                                                                                  \n",
            " dense_5 (Dense)             (None, 512)                  1311232   ['concatenate_7[0][0]']       \n",
            "                                                                                                  \n",
            " dropout_3 (Dropout)         (None, 512)                  0         ['dense_5[0][0]']             \n",
            "                                                                                                  \n",
            " dense_6 (Dense)             (None, 3)                    1539      ['dropout_3[0][0]']           \n",
            "                                                                                                  \n",
            "==================================================================================================\n",
            "Total params: 37830243 (144.31 MB)\n",
            "Trainable params: 1312771 (5.01 MB)\n",
            "Non-trainable params: 36517472 (139.30 MB)\n",
            "__________________________________________________________________________________________________\n"
          ]
        }
      ]
    },
    {
      "cell_type": "code",
      "source": [
        "from tensorflow.keras.callbacks import ModelCheckpoint, ReduceLROnPlateau\n",
        "from datetime import datetime"
      ],
      "metadata": {
        "id": "FtQnBgpmQ8Je"
      },
      "execution_count": null,
      "outputs": []
    },
    {
      "cell_type": "code",
      "source": [
        "# Define callbacks\n",
        "checkpoint = ModelCheckpoint(\"model_checkpoint.h5\", monitor='val_loss', verbose=1, save_best_only=True, mode='min')\n",
        "lr_scheduler = ReduceLROnPlateau(monitor='val_loss', factor=0.1, patience=5, verbose=1, mode='min', min_lr=1e-6)\n",
        "\n",
        "callbacks = [checkpoint, lr_scheduler]\n",
        "\n",
        "# Define learning rate scheduler\n",
        "def lr_schedule(epoch):\n",
        "    \"\"\"\n",
        "    Learning rate scheduler.\n",
        "    \"\"\"\n",
        "    initial_lr = 0.01\n",
        "    if epoch < 10:\n",
        "        return initial_lr\n",
        "    else:\n",
        "        return initial_lr * 0.1\n",
        "\n",
        "# Training configuration\n",
        "epochs = 15\n",
        "initial_learning_rate = 0.01\n",
        "steps_per_epoch = len(train_generator)\n",
        "\n",
        "# Compile the model\n",
        "ensemble_model.compile(optimizer='adam', loss='categorical_crossentropy', metrics=['accuracy'])\n",
        "\n",
        "# Start training\n",
        "start_time = datetime.now()\n",
        "\n",
        "history = ensemble_model.fit(train_generator,\n",
        "                    epochs=epochs,\n",
        "                    validation_data=validation_generator,\n",
        "                    callbacks=callbacks)\n",
        "\n",
        "# Calculate training duration\n",
        "training_duration = datetime.now() - start_time\n",
        "print(\"Training duration:\", training_duration)\n"
      ],
      "metadata": {
        "colab": {
          "base_uri": "https://localhost:8080/"
        },
        "id": "zHGiVzeTO9sZ",
        "outputId": "99c23e13-f8c5-4704-9621-d309286376b0"
      },
      "execution_count": null,
      "outputs": [
        {
          "output_type": "stream",
          "name": "stdout",
          "text": [
            "Epoch 1/15\n",
            "46/46 [==============================] - ETA: 0s - loss: 0.7945 - accuracy: 0.7319\n",
            "Epoch 1: val_loss improved from inf to 0.34476, saving model to model_checkpoint.h5\n"
          ]
        },
        {
          "output_type": "stream",
          "name": "stderr",
          "text": [
            "/usr/local/lib/python3.10/dist-packages/keras/src/engine/training.py:3103: UserWarning: You are saving your model as an HDF5 file via `model.save()`. This file format is considered legacy. We recommend using instead the native Keras format, e.g. `model.save('my_model.keras')`.\n",
            "  saving_api.save_model(\n"
          ]
        },
        {
          "output_type": "stream",
          "name": "stdout",
          "text": [
            "\b\b\b\b\b\b\b\b\b\b\b\b\b\b\b\b\b\b\b\b\b\b\b\b\b\b\b\b\b\b\b\b\b\b\b\b\b\b\b\b\b\b\b\b\b\b\b\b\b\b\b\b\b\b\b\b\b\b\b\b\b\b\b\b\b\b\b\b\b\b\b\b\b\b\b\b\b\b\b\b\b\b\r46/46 [==============================] - 544s 11s/step - loss: 0.7945 - accuracy: 0.7319 - val_loss: 0.3448 - val_accuracy: 0.8762 - lr: 0.0010\n",
            "Epoch 2/15\n",
            "46/46 [==============================] - ETA: 0s - loss: 0.3788 - accuracy: 0.8569\n",
            "Epoch 2: val_loss improved from 0.34476 to 0.34272, saving model to model_checkpoint.h5\n",
            "46/46 [==============================] - 63s 1s/step - loss: 0.3788 - accuracy: 0.8569 - val_loss: 0.3427 - val_accuracy: 0.8837 - lr: 0.0010\n",
            "Epoch 3/15\n",
            "46/46 [==============================] - ETA: 0s - loss: 0.3833 - accuracy: 0.8507\n",
            "Epoch 3: val_loss improved from 0.34272 to 0.33299, saving model to model_checkpoint.h5\n",
            "46/46 [==============================] - 61s 1s/step - loss: 0.3833 - accuracy: 0.8507 - val_loss: 0.3330 - val_accuracy: 0.8589 - lr: 0.0010\n",
            "Epoch 4/15\n",
            "46/46 [==============================] - ETA: 0s - loss: 0.3235 - accuracy: 0.8694\n",
            "Epoch 4: val_loss did not improve from 0.33299\n",
            "46/46 [==============================] - 61s 1s/step - loss: 0.3235 - accuracy: 0.8694 - val_loss: 0.4969 - val_accuracy: 0.8119 - lr: 0.0010\n",
            "Epoch 5/15\n",
            "46/46 [==============================] - ETA: 0s - loss: 0.2820 - accuracy: 0.8950\n",
            "Epoch 5: val_loss improved from 0.33299 to 0.26239, saving model to model_checkpoint.h5\n",
            "46/46 [==============================] - 61s 1s/step - loss: 0.2820 - accuracy: 0.8950 - val_loss: 0.2624 - val_accuracy: 0.9035 - lr: 0.0010\n",
            "Epoch 6/15\n",
            "46/46 [==============================] - ETA: 0s - loss: 0.3013 - accuracy: 0.8811\n",
            "Epoch 6: val_loss improved from 0.26239 to 0.22810, saving model to model_checkpoint.h5\n",
            "46/46 [==============================] - 63s 1s/step - loss: 0.3013 - accuracy: 0.8811 - val_loss: 0.2281 - val_accuracy: 0.9257 - lr: 0.0010\n",
            "Epoch 7/15\n",
            "46/46 [==============================] - ETA: 0s - loss: 0.2906 - accuracy: 0.8901\n",
            "Epoch 7: val_loss did not improve from 0.22810\n",
            "46/46 [==============================] - 62s 1s/step - loss: 0.2906 - accuracy: 0.8901 - val_loss: 0.3176 - val_accuracy: 0.8713 - lr: 0.0010\n",
            "Epoch 8/15\n",
            "46/46 [==============================] - ETA: 0s - loss: 0.3059 - accuracy: 0.8846\n",
            "Epoch 8: val_loss improved from 0.22810 to 0.20352, saving model to model_checkpoint.h5\n",
            "46/46 [==============================] - 62s 1s/step - loss: 0.3059 - accuracy: 0.8846 - val_loss: 0.2035 - val_accuracy: 0.9257 - lr: 0.0010\n",
            "Epoch 9/15\n",
            "46/46 [==============================] - ETA: 0s - loss: 0.3225 - accuracy: 0.8756\n",
            "Epoch 9: val_loss did not improve from 0.20352\n",
            "46/46 [==============================] - 60s 1s/step - loss: 0.3225 - accuracy: 0.8756 - val_loss: 0.2813 - val_accuracy: 0.8985 - lr: 0.0010\n",
            "Epoch 10/15\n",
            "46/46 [==============================] - ETA: 0s - loss: 0.2646 - accuracy: 0.8956\n",
            "Epoch 10: val_loss did not improve from 0.20352\n",
            "46/46 [==============================] - 61s 1s/step - loss: 0.2646 - accuracy: 0.8956 - val_loss: 0.3145 - val_accuracy: 0.8837 - lr: 0.0010\n",
            "Epoch 11/15\n",
            "46/46 [==============================] - ETA: 0s - loss: 0.2585 - accuracy: 0.8977\n",
            "Epoch 11: val_loss did not improve from 0.20352\n",
            "46/46 [==============================] - 60s 1s/step - loss: 0.2585 - accuracy: 0.8977 - val_loss: 0.2855 - val_accuracy: 0.8837 - lr: 0.0010\n",
            "Epoch 12/15\n",
            "46/46 [==============================] - ETA: 0s - loss: 0.2973 - accuracy: 0.8804\n",
            "Epoch 12: val_loss did not improve from 0.20352\n",
            "46/46 [==============================] - 61s 1s/step - loss: 0.2973 - accuracy: 0.8804 - val_loss: 0.2990 - val_accuracy: 0.8762 - lr: 0.0010\n",
            "Epoch 13/15\n",
            "46/46 [==============================] - ETA: 0s - loss: 0.2779 - accuracy: 0.8963\n",
            "Epoch 13: val_loss did not improve from 0.20352\n",
            "\n",
            "Epoch 13: ReduceLROnPlateau reducing learning rate to 0.00010000000474974513.\n",
            "46/46 [==============================] - 60s 1s/step - loss: 0.2779 - accuracy: 0.8963 - val_loss: 0.3244 - val_accuracy: 0.8738 - lr: 0.0010\n",
            "Epoch 14/15\n",
            "46/46 [==============================] - ETA: 0s - loss: 0.2445 - accuracy: 0.9012\n",
            "Epoch 14: val_loss did not improve from 0.20352\n",
            "46/46 [==============================] - 61s 1s/step - loss: 0.2445 - accuracy: 0.9012 - val_loss: 0.2374 - val_accuracy: 0.9183 - lr: 1.0000e-04\n",
            "Epoch 15/15\n",
            "46/46 [==============================] - ETA: 0s - loss: 0.2362 - accuracy: 0.9109\n",
            "Epoch 15: val_loss did not improve from 0.20352\n",
            "46/46 [==============================] - 60s 1s/step - loss: 0.2362 - accuracy: 0.9109 - val_loss: 0.2490 - val_accuracy: 0.9084 - lr: 1.0000e-04\n",
            "Training duration: 0:25:08.027499\n"
          ]
        }
      ]
    },
    {
      "cell_type": "code",
      "source": [],
      "metadata": {
        "id": "1CSz7d3vO9v-"
      },
      "execution_count": null,
      "outputs": []
    },
    {
      "cell_type": "code",
      "source": [
        "import matplotlib.pyplot as plt\n",
        "plt.plot(history.history['accuracy'],color='red',label='train')\n",
        "plt.plot(history.history['val_accuracy'],color='blue',label='validation')\n",
        "plt.legend()\n",
        "plt.show()"
      ],
      "metadata": {
        "colab": {
          "base_uri": "https://localhost:8080/",
          "height": 430
        },
        "id": "SGcShHiN_L9H",
        "outputId": "0338a83b-be18-46a8-b7e9-5fb06caa2b36"
      },
      "execution_count": null,
      "outputs": [
        {
          "output_type": "display_data",
          "data": {
            "text/plain": [
              "<Figure size 640x480 with 1 Axes>"
            ],
            "image/png": "[encoded data removed]"
          },
          "metadata": {}
        }
      ]
    },
    {
      "cell_type": "code",
      "source": [
        "plt.plot(history.history['loss'],color='red',label='train')\n",
        "plt.plot(history.history['val_loss'],color='blue',label='validation')\n",
        "plt.legend()\n",
        "plt.show()\n"
      ],
      "metadata": {
        "colab": {
          "base_uri": "https://localhost:8080/",
          "height": 430
        },
        "id": "8oIZHvU6Hj8Z",
        "outputId": "d54e3280-73bb-41df-a98c-b4f63fdd65dd"
      },
      "execution_count": null,
      "outputs": [
        {
          "output_type": "display_data",
          "data": {
            "text/plain": [
              "<Figure size 640x480 with 1 Axes>"
            ],
            "image/png": "[encoded data removed]"
          },
          "metadata": {}
        }
      ]
    },
    {
      "cell_type": "code",
      "source": [
        "# Evaluate the model\n",
        "loss, accuracy = ensemble_model.evaluate(validation_generator)\n",
        "print(\"Test Loss:\", loss)\n",
        "print(\"Test Accuracy:\", accuracy)"
      ],
      "metadata": {
        "colab": {
          "base_uri": "https://localhost:8080/"
        },
        "id": "n-r84Ub1HmNu",
        "outputId": "e187b207-34e6-400e-c159-6eb52c2bf853"
      },
      "execution_count": null,
      "outputs": [
        {
          "output_type": "stream",
          "name": "stdout",
          "text": [
            "13/13 [==============================] - 10s 755ms/step - loss: 0.2490 - accuracy: 0.9084\n",
            "Test Loss: 0.249042809009552\n",
            "Test Accuracy: 0.9084158539772034\n"
          ]
        }
      ]
    },
    {
      "cell_type": "code",
      "source": [
        "from sklearn.metrics import classification_report\n",
        "\n",
        "# Assuming you have already trained your model and loaded test data\n",
        "\n",
        "# Evaluate the model on the training set\n",
        "train_loss, train_accuracy = ensemble_model.evaluate(train_generator)\n",
        "\n",
        "# Predict classes for training set\n",
        "train_predictions = ensemble_model.predict(train_generator)\n",
        "train_predicted_classes = np.argmax(train_predictions, axis=1)\n",
        "\n",
        "# Get true labels for training set\n",
        "train_true_classes = train_generator.classes\n",
        "\n",
        "# Get class labels\n",
        "class_labels = list(train_generator.class_indices.keys())\n",
        "\n",
        "# Generate classification report for training set\n",
        "train_report = classification_report(train_true_classes, train_predicted_classes, target_names=class_labels)\n",
        "\n",
        "print(\"Training Classification Report:\")\n",
        "print(train_report)\n",
        "\n",
        "# Evaluate the model on the validation set\n",
        "val_loss, val_accuracy = ensemble_model.evaluate(validation_generator)\n",
        "\n",
        "# Predict classes for validation set\n",
        "val_predictions = ensemble_model.predict(validation_generator)\n",
        "val_predicted_classes = np.argmax(val_predictions, axis=1)\n",
        "\n",
        "# Get true labels for validation set\n",
        "val_true_classes = validation_generator.classes\n",
        "\n",
        "# Generate classification report for validation set\n",
        "val_report = classification_report(val_true_classes, val_predicted_classes, target_names=class_labels)\n",
        "\n",
        "print(\"Validation Classification Report:\")\n",
        "print(val_report)\n"
      ],
      "metadata": {
        "colab": {
          "base_uri": "https://localhost:8080/"
        },
        "id": "BJ6mCV05HoZH",
        "outputId": "fda9ab6a-b075-4c6d-c92c-9532525645e2"
      },
      "execution_count": null,
      "outputs": [
        {
          "output_type": "stream",
          "name": "stdout",
          "text": [
            "46/46 [==============================] - 51s 1s/step - loss: 0.1794 - accuracy: 0.9378\n",
            "46/46 [==============================] - 53s 1s/step\n",
            "Training Classification Report:\n",
            "              precision    recall  f1-score   support\n",
            "\n",
            "     COVID19       0.35      0.34      0.34       460\n",
            "      NORMAL       0.36      0.39      0.37       504\n",
            "   PNEUMONIA       0.34      0.32      0.33       483\n",
            "\n",
            "    accuracy                           0.35      1447\n",
            "   macro avg       0.35      0.35      0.35      1447\n",
            "weighted avg       0.35      0.35      0.35      1447\n",
            "\n",
            "13/13 [==============================] - 10s 781ms/step - loss: 0.2490 - accuracy: 0.9084\n",
            "13/13 [==============================] - 10s 768ms/step\n",
            "Validation Classification Report:\n",
            "              precision    recall  f1-score   support\n",
            "\n",
            "     COVID19       0.34      0.31      0.32       116\n",
            "      NORMAL       0.37      0.44      0.40       160\n",
            "   PNEUMONIA       0.30      0.25      0.27       128\n",
            "\n",
            "    accuracy                           0.34       404\n",
            "   macro avg       0.33      0.33      0.33       404\n",
            "weighted avg       0.34      0.34      0.34       404\n",
            "\n"
          ]
        }
      ]
    },
    {
      "cell_type": "code",
      "source": [],
      "metadata": {
        "id": "F9kO0seJIFxa"
      },
      "execution_count": null,
      "outputs": []
    }
  ]
}